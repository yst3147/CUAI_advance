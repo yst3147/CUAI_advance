{
 "cells": [
  {
   "cell_type": "code",
   "execution_count": null,
   "metadata": {},
   "outputs": [],
   "source": [
    "!pip install pycaret"
   ]
  },
  {
   "cell_type": "code",
   "execution_count": 2,
   "metadata": {},
   "outputs": [],
   "source": [
    "import numpy as np\n",
    "import pandas as pd\n",
    "import matplotlib.pyplot as plt\n",
    "import seaborn as sns\n",
    "%matplotlib inline\n",
    "import warnings\n",
    "warnings.filterwarnings(action='ignore')\n",
    "\n",
    "from pycaret.classification import *\n",
    "from sklearn import preprocessing\n",
    "from sklearn.model_selection import train_test_split\n",
    "from sklearn.ensemble import GradientBoostingClassifier, RandomForestClassifier, AdaBoostClassifier, BaggingClassifier, VotingClassifier\n",
    "from sklearn.metrics import accuracy_score\n",
    "from sklearn.model_selection import KFold, cross_val_score, GridSearchCV"
   ]
  },
  {
   "cell_type": "markdown",
   "metadata": {},
   "source": [
    "## 1. 결측치 처리 및 전처리"
   ]
  },
  {
   "cell_type": "code",
   "execution_count": 3,
   "metadata": {},
   "outputs": [
    {
     "data": {
      "text/html": [
       "<div>\n",
       "<style scoped>\n",
       "    .dataframe tbody tr th:only-of-type {\n",
       "        vertical-align: middle;\n",
       "    }\n",
       "\n",
       "    .dataframe tbody tr th {\n",
       "        vertical-align: top;\n",
       "    }\n",
       "\n",
       "    .dataframe thead th {\n",
       "        text-align: right;\n",
       "    }\n",
       "</style>\n",
       "<table border=\"1\" class=\"dataframe\">\n",
       "  <thead>\n",
       "    <tr style=\"text-align: right;\">\n",
       "      <th></th>\n",
       "      <th>PassengerId</th>\n",
       "      <th>Survived</th>\n",
       "      <th>Pclass</th>\n",
       "      <th>Name</th>\n",
       "      <th>Sex</th>\n",
       "      <th>Age</th>\n",
       "      <th>SibSp</th>\n",
       "      <th>Parch</th>\n",
       "      <th>Ticket</th>\n",
       "      <th>Fare</th>\n",
       "      <th>Cabin</th>\n",
       "      <th>Embarked</th>\n",
       "    </tr>\n",
       "  </thead>\n",
       "  <tbody>\n",
       "    <tr>\n",
       "      <th>0</th>\n",
       "      <td>1</td>\n",
       "      <td>0</td>\n",
       "      <td>3</td>\n",
       "      <td>Braund, Mr. Owen Harris</td>\n",
       "      <td>male</td>\n",
       "      <td>22.0</td>\n",
       "      <td>1</td>\n",
       "      <td>0</td>\n",
       "      <td>A/5 21171</td>\n",
       "      <td>7.2500</td>\n",
       "      <td>NaN</td>\n",
       "      <td>S</td>\n",
       "    </tr>\n",
       "    <tr>\n",
       "      <th>1</th>\n",
       "      <td>2</td>\n",
       "      <td>1</td>\n",
       "      <td>1</td>\n",
       "      <td>Cumings, Mrs. John Bradley (Florence Briggs Th...</td>\n",
       "      <td>female</td>\n",
       "      <td>38.0</td>\n",
       "      <td>1</td>\n",
       "      <td>0</td>\n",
       "      <td>PC 17599</td>\n",
       "      <td>71.2833</td>\n",
       "      <td>C85</td>\n",
       "      <td>C</td>\n",
       "    </tr>\n",
       "    <tr>\n",
       "      <th>2</th>\n",
       "      <td>3</td>\n",
       "      <td>1</td>\n",
       "      <td>3</td>\n",
       "      <td>Heikkinen, Miss. Laina</td>\n",
       "      <td>female</td>\n",
       "      <td>26.0</td>\n",
       "      <td>0</td>\n",
       "      <td>0</td>\n",
       "      <td>STON/O2. 3101282</td>\n",
       "      <td>7.9250</td>\n",
       "      <td>NaN</td>\n",
       "      <td>S</td>\n",
       "    </tr>\n",
       "    <tr>\n",
       "      <th>3</th>\n",
       "      <td>4</td>\n",
       "      <td>1</td>\n",
       "      <td>1</td>\n",
       "      <td>Futrelle, Mrs. Jacques Heath (Lily May Peel)</td>\n",
       "      <td>female</td>\n",
       "      <td>35.0</td>\n",
       "      <td>1</td>\n",
       "      <td>0</td>\n",
       "      <td>113803</td>\n",
       "      <td>53.1000</td>\n",
       "      <td>C123</td>\n",
       "      <td>S</td>\n",
       "    </tr>\n",
       "    <tr>\n",
       "      <th>4</th>\n",
       "      <td>5</td>\n",
       "      <td>0</td>\n",
       "      <td>3</td>\n",
       "      <td>Allen, Mr. William Henry</td>\n",
       "      <td>male</td>\n",
       "      <td>35.0</td>\n",
       "      <td>0</td>\n",
       "      <td>0</td>\n",
       "      <td>373450</td>\n",
       "      <td>8.0500</td>\n",
       "      <td>NaN</td>\n",
       "      <td>S</td>\n",
       "    </tr>\n",
       "  </tbody>\n",
       "</table>\n",
       "</div>"
      ],
      "text/plain": [
       "   PassengerId  Survived  Pclass  \\\n",
       "0            1         0       3   \n",
       "1            2         1       1   \n",
       "2            3         1       3   \n",
       "3            4         1       1   \n",
       "4            5         0       3   \n",
       "\n",
       "                                                Name     Sex   Age  SibSp  \\\n",
       "0                            Braund, Mr. Owen Harris    male  22.0      1   \n",
       "1  Cumings, Mrs. John Bradley (Florence Briggs Th...  female  38.0      1   \n",
       "2                             Heikkinen, Miss. Laina  female  26.0      0   \n",
       "3       Futrelle, Mrs. Jacques Heath (Lily May Peel)  female  35.0      1   \n",
       "4                           Allen, Mr. William Henry    male  35.0      0   \n",
       "\n",
       "   Parch            Ticket     Fare Cabin Embarked  \n",
       "0      0         A/5 21171   7.2500   NaN        S  \n",
       "1      0          PC 17599  71.2833   C85        C  \n",
       "2      0  STON/O2. 3101282   7.9250   NaN        S  \n",
       "3      0            113803  53.1000  C123        S  \n",
       "4      0            373450   8.0500   NaN        S  "
      ]
     },
     "execution_count": 3,
     "metadata": {},
     "output_type": "execute_result"
    }
   ],
   "source": [
    "df = pd.read_csv('./train.csv')\n",
    "df.head()"
   ]
  },
  {
   "cell_type": "markdown",
   "metadata": {},
   "source": [
    "### titanic 데이터 정보"
   ]
  },
  {
   "cell_type": "code",
   "execution_count": 4,
   "metadata": {},
   "outputs": [
    {
     "name": "stdout",
     "output_type": "stream",
     "text": [
      "<class 'pandas.core.frame.DataFrame'>\n",
      "RangeIndex: 891 entries, 0 to 890\n",
      "Data columns (total 12 columns):\n",
      " #   Column       Non-Null Count  Dtype  \n",
      "---  ------       --------------  -----  \n",
      " 0   PassengerId  891 non-null    int64  \n",
      " 1   Survived     891 non-null    int64  \n",
      " 2   Pclass       891 non-null    int64  \n",
      " 3   Name         891 non-null    object \n",
      " 4   Sex          891 non-null    object \n",
      " 5   Age          714 non-null    float64\n",
      " 6   SibSp        891 non-null    int64  \n",
      " 7   Parch        891 non-null    int64  \n",
      " 8   Ticket       891 non-null    object \n",
      " 9   Fare         891 non-null    float64\n",
      " 10  Cabin        204 non-null    object \n",
      " 11  Embarked     889 non-null    object \n",
      "dtypes: float64(2), int64(5), object(5)\n",
      "memory usage: 83.7+ KB\n"
     ]
    }
   ],
   "source": [
    "df.info()"
   ]
  },
  {
   "cell_type": "markdown",
   "metadata": {},
   "source": [
    "PassengerId: 탑승자 데이터 일련번호\n",
    "\n",
    "Survived: 생존여부, 0 = 사망, 1 = 생존\n",
    "\n",
    "Pclass: 티켓의 선실 등급, 1 = 일등석, 2 = 이등석, 3 = 삼등석\n",
    "\n",
    "Sex: 탑승자 성별\n",
    "\n",
    "Name: 탑승자 이름\n",
    "\n",
    "Age: 탑승자 나이\n",
    "\n",
    "SibSp: 같이 탑승한 형제, 자매 또는 배우자 인원 수\n",
    "\n",
    "Parch: 같이 탑승한 부모님 또는 자녀 인원 수\n",
    "\n",
    "Ticket: 티켓 번호\n",
    "\n",
    "Fare: 요금\n",
    "\n",
    "Cabin: 선실 번호\n",
    "\n",
    "Embarked: 탑승 항구, C = Cherbourg, Q = Queenstown, S = Southampton"
   ]
  },
  {
   "cell_type": "markdown",
   "metadata": {},
   "source": [
    "### Cabin, Embarked 결측치 처리\n",
    "#### 선실 번호와 탑승 항구의 결측값에 N을 대입한다."
   ]
  },
  {
   "cell_type": "code",
   "execution_count": 5,
   "metadata": {},
   "outputs": [],
   "source": [
    "df['Cabin'].fillna('N', inplace=True)\n",
    "df['Embarked'].fillna('N', inplace=True)"
   ]
  },
  {
   "cell_type": "markdown",
   "metadata": {},
   "source": [
    "### Age 결측치 처리\n",
    "\n",
    "\n",
    "#### name을 호칭으로 바꾼 뒤 같은 호칭의 평균으로 결측치를 채운다"
   ]
  },
  {
   "cell_type": "code",
   "execution_count": 6,
   "metadata": {},
   "outputs": [],
   "source": [
    "df.loc[(df['Name'].str.contains('Mr')) & (~df['Name'].str.contains('Mrs')), 'Name'] = 'Mr'\n",
    "df.loc[(df['Name'].str.contains('Mrs')), 'Name'] = 'Mrs'\n",
    "df.loc[(df['Name'].str.contains('Miss')), 'Name'] = 'Miss'\n",
    "df.loc[(df['Name'].str.contains('Master')), 'Name'] = 'Master'\n",
    "# 위의 네 호칭이 붙지 않은 사람은 기타(Others)로 분류\n",
    "df.loc[(~df['Name'].str.contains('Mr')) & (~df['Name'].str.contains('Mrs')) \n",
    "       & (~df['Name'].str.contains('Miss')) & (~df['Name'].str.contains('Master')), 'Name'] = 'Others'"
   ]
  },
  {
   "cell_type": "code",
   "execution_count": 7,
   "metadata": {},
   "outputs": [
    {
     "data": {
      "text/plain": [
       "Mr        518\n",
       "Miss      180\n",
       "Mrs       129\n",
       "Master     40\n",
       "Others     24\n",
       "Name: Name, dtype: int64"
      ]
     },
     "execution_count": 7,
     "metadata": {},
     "output_type": "execute_result"
    }
   ],
   "source": [
    "# 각 호칭의 갯수\n",
    "df['Name'].value_counts()"
   ]
  },
  {
   "cell_type": "code",
   "execution_count": 8,
   "metadata": {},
   "outputs": [
    {
     "data": {
      "text/plain": [
       "Name\n",
       "Master     4.574167\n",
       "Miss      21.777778\n",
       "Mr        32.409774\n",
       "Mrs       35.642857\n",
       "Others    42.652174\n",
       "Name: Age, dtype: float64"
      ]
     },
     "execution_count": 8,
     "metadata": {},
     "output_type": "execute_result"
    }
   ],
   "source": [
    "# 호칭별 나이 값의 평균\n",
    "df.groupby('Name')['Age'].mean()"
   ]
  },
  {
   "cell_type": "code",
   "execution_count": 9,
   "metadata": {},
   "outputs": [],
   "source": [
    "# 호칭별 나이의 평균을 결측치에 대입\n",
    "fill_mean_func = lambda x: x.fillna(x.mean())\n",
    "df = df.groupby('Name').apply(fill_mean_func)"
   ]
  },
  {
   "cell_type": "code",
   "execution_count": 10,
   "metadata": {},
   "outputs": [
    {
     "data": {
      "text/html": [
       "<div>\n",
       "<style scoped>\n",
       "    .dataframe tbody tr th:only-of-type {\n",
       "        vertical-align: middle;\n",
       "    }\n",
       "\n",
       "    .dataframe tbody tr th {\n",
       "        vertical-align: top;\n",
       "    }\n",
       "\n",
       "    .dataframe thead th {\n",
       "        text-align: right;\n",
       "    }\n",
       "</style>\n",
       "<table border=\"1\" class=\"dataframe\">\n",
       "  <thead>\n",
       "    <tr style=\"text-align: right;\">\n",
       "      <th></th>\n",
       "      <th>PassengerId</th>\n",
       "      <th>Survived</th>\n",
       "      <th>Pclass</th>\n",
       "      <th>Name</th>\n",
       "      <th>Sex</th>\n",
       "      <th>Age</th>\n",
       "      <th>SibSp</th>\n",
       "      <th>Parch</th>\n",
       "      <th>Ticket</th>\n",
       "      <th>Fare</th>\n",
       "      <th>Cabin</th>\n",
       "      <th>Embarked</th>\n",
       "    </tr>\n",
       "  </thead>\n",
       "  <tbody>\n",
       "    <tr>\n",
       "      <th>0</th>\n",
       "      <td>1</td>\n",
       "      <td>0</td>\n",
       "      <td>3</td>\n",
       "      <td>Mr</td>\n",
       "      <td>male</td>\n",
       "      <td>22.000000</td>\n",
       "      <td>1</td>\n",
       "      <td>0</td>\n",
       "      <td>A/5 21171</td>\n",
       "      <td>7.2500</td>\n",
       "      <td>N</td>\n",
       "      <td>S</td>\n",
       "    </tr>\n",
       "    <tr>\n",
       "      <th>1</th>\n",
       "      <td>2</td>\n",
       "      <td>1</td>\n",
       "      <td>1</td>\n",
       "      <td>Mrs</td>\n",
       "      <td>female</td>\n",
       "      <td>38.000000</td>\n",
       "      <td>1</td>\n",
       "      <td>0</td>\n",
       "      <td>PC 17599</td>\n",
       "      <td>71.2833</td>\n",
       "      <td>C85</td>\n",
       "      <td>C</td>\n",
       "    </tr>\n",
       "    <tr>\n",
       "      <th>2</th>\n",
       "      <td>3</td>\n",
       "      <td>1</td>\n",
       "      <td>3</td>\n",
       "      <td>Miss</td>\n",
       "      <td>female</td>\n",
       "      <td>26.000000</td>\n",
       "      <td>0</td>\n",
       "      <td>0</td>\n",
       "      <td>STON/O2. 3101282</td>\n",
       "      <td>7.9250</td>\n",
       "      <td>N</td>\n",
       "      <td>S</td>\n",
       "    </tr>\n",
       "    <tr>\n",
       "      <th>3</th>\n",
       "      <td>4</td>\n",
       "      <td>1</td>\n",
       "      <td>1</td>\n",
       "      <td>Mrs</td>\n",
       "      <td>female</td>\n",
       "      <td>35.000000</td>\n",
       "      <td>1</td>\n",
       "      <td>0</td>\n",
       "      <td>113803</td>\n",
       "      <td>53.1000</td>\n",
       "      <td>C123</td>\n",
       "      <td>S</td>\n",
       "    </tr>\n",
       "    <tr>\n",
       "      <th>4</th>\n",
       "      <td>5</td>\n",
       "      <td>0</td>\n",
       "      <td>3</td>\n",
       "      <td>Mr</td>\n",
       "      <td>male</td>\n",
       "      <td>35.000000</td>\n",
       "      <td>0</td>\n",
       "      <td>0</td>\n",
       "      <td>373450</td>\n",
       "      <td>8.0500</td>\n",
       "      <td>N</td>\n",
       "      <td>S</td>\n",
       "    </tr>\n",
       "    <tr>\n",
       "      <th>...</th>\n",
       "      <td>...</td>\n",
       "      <td>...</td>\n",
       "      <td>...</td>\n",
       "      <td>...</td>\n",
       "      <td>...</td>\n",
       "      <td>...</td>\n",
       "      <td>...</td>\n",
       "      <td>...</td>\n",
       "      <td>...</td>\n",
       "      <td>...</td>\n",
       "      <td>...</td>\n",
       "      <td>...</td>\n",
       "    </tr>\n",
       "    <tr>\n",
       "      <th>886</th>\n",
       "      <td>887</td>\n",
       "      <td>0</td>\n",
       "      <td>2</td>\n",
       "      <td>Others</td>\n",
       "      <td>male</td>\n",
       "      <td>27.000000</td>\n",
       "      <td>0</td>\n",
       "      <td>0</td>\n",
       "      <td>211536</td>\n",
       "      <td>13.0000</td>\n",
       "      <td>N</td>\n",
       "      <td>S</td>\n",
       "    </tr>\n",
       "    <tr>\n",
       "      <th>887</th>\n",
       "      <td>888</td>\n",
       "      <td>1</td>\n",
       "      <td>1</td>\n",
       "      <td>Miss</td>\n",
       "      <td>female</td>\n",
       "      <td>19.000000</td>\n",
       "      <td>0</td>\n",
       "      <td>0</td>\n",
       "      <td>112053</td>\n",
       "      <td>30.0000</td>\n",
       "      <td>B42</td>\n",
       "      <td>S</td>\n",
       "    </tr>\n",
       "    <tr>\n",
       "      <th>888</th>\n",
       "      <td>889</td>\n",
       "      <td>0</td>\n",
       "      <td>3</td>\n",
       "      <td>Miss</td>\n",
       "      <td>female</td>\n",
       "      <td>21.777778</td>\n",
       "      <td>1</td>\n",
       "      <td>2</td>\n",
       "      <td>W./C. 6607</td>\n",
       "      <td>23.4500</td>\n",
       "      <td>N</td>\n",
       "      <td>S</td>\n",
       "    </tr>\n",
       "    <tr>\n",
       "      <th>889</th>\n",
       "      <td>890</td>\n",
       "      <td>1</td>\n",
       "      <td>1</td>\n",
       "      <td>Mr</td>\n",
       "      <td>male</td>\n",
       "      <td>26.000000</td>\n",
       "      <td>0</td>\n",
       "      <td>0</td>\n",
       "      <td>111369</td>\n",
       "      <td>30.0000</td>\n",
       "      <td>C148</td>\n",
       "      <td>C</td>\n",
       "    </tr>\n",
       "    <tr>\n",
       "      <th>890</th>\n",
       "      <td>891</td>\n",
       "      <td>0</td>\n",
       "      <td>3</td>\n",
       "      <td>Mr</td>\n",
       "      <td>male</td>\n",
       "      <td>32.000000</td>\n",
       "      <td>0</td>\n",
       "      <td>0</td>\n",
       "      <td>370376</td>\n",
       "      <td>7.7500</td>\n",
       "      <td>N</td>\n",
       "      <td>Q</td>\n",
       "    </tr>\n",
       "  </tbody>\n",
       "</table>\n",
       "<p>891 rows × 12 columns</p>\n",
       "</div>"
      ],
      "text/plain": [
       "     PassengerId  Survived  Pclass    Name     Sex        Age  SibSp  Parch  \\\n",
       "0              1         0       3      Mr    male  22.000000      1      0   \n",
       "1              2         1       1     Mrs  female  38.000000      1      0   \n",
       "2              3         1       3    Miss  female  26.000000      0      0   \n",
       "3              4         1       1     Mrs  female  35.000000      1      0   \n",
       "4              5         0       3      Mr    male  35.000000      0      0   \n",
       "..           ...       ...     ...     ...     ...        ...    ...    ...   \n",
       "886          887         0       2  Others    male  27.000000      0      0   \n",
       "887          888         1       1    Miss  female  19.000000      0      0   \n",
       "888          889         0       3    Miss  female  21.777778      1      2   \n",
       "889          890         1       1      Mr    male  26.000000      0      0   \n",
       "890          891         0       3      Mr    male  32.000000      0      0   \n",
       "\n",
       "               Ticket     Fare Cabin Embarked  \n",
       "0           A/5 21171   7.2500     N        S  \n",
       "1            PC 17599  71.2833   C85        C  \n",
       "2    STON/O2. 3101282   7.9250     N        S  \n",
       "3              113803  53.1000  C123        S  \n",
       "4              373450   8.0500     N        S  \n",
       "..                ...      ...   ...      ...  \n",
       "886            211536  13.0000     N        S  \n",
       "887            112053  30.0000   B42        S  \n",
       "888        W./C. 6607  23.4500     N        S  \n",
       "889            111369  30.0000  C148        C  \n",
       "890            370376   7.7500     N        Q  \n",
       "\n",
       "[891 rows x 12 columns]"
      ]
     },
     "execution_count": 10,
     "metadata": {},
     "output_type": "execute_result"
    }
   ],
   "source": [
    "# PassengerId 오름차순으로 dataframe 재정렬\n",
    "df = df.sort_values(by=['PassengerId'], axis=0)\n",
    "df.reset_index(drop=True, inplace=True)\n",
    "df"
   ]
  },
  {
   "cell_type": "code",
   "execution_count": 11,
   "metadata": {},
   "outputs": [
    {
     "name": "stdout",
     "output_type": "stream",
     "text": [
      "<class 'pandas.core.frame.DataFrame'>\n",
      "RangeIndex: 891 entries, 0 to 890\n",
      "Data columns (total 12 columns):\n",
      " #   Column       Non-Null Count  Dtype  \n",
      "---  ------       --------------  -----  \n",
      " 0   PassengerId  891 non-null    int64  \n",
      " 1   Survived     891 non-null    int64  \n",
      " 2   Pclass       891 non-null    int64  \n",
      " 3   Name         891 non-null    object \n",
      " 4   Sex          891 non-null    object \n",
      " 5   Age          891 non-null    float64\n",
      " 6   SibSp        891 non-null    int64  \n",
      " 7   Parch        891 non-null    int64  \n",
      " 8   Ticket       891 non-null    object \n",
      " 9   Fare         891 non-null    float64\n",
      " 10  Cabin        891 non-null    object \n",
      " 11  Embarked     891 non-null    object \n",
      "dtypes: float64(2), int64(5), object(5)\n",
      "memory usage: 83.7+ KB\n"
     ]
    }
   ],
   "source": [
    "# 결측치 처리 완료\n",
    "df.info()"
   ]
  },
  {
   "cell_type": "markdown",
   "metadata": {},
   "source": [
    "### Cabin 전처리"
   ]
  },
  {
   "cell_type": "code",
   "execution_count": null,
   "metadata": {},
   "outputs": [],
   "source": [
    "# Cabin 값 분포\n",
    "df['Cabin'].value_counts()"
   ]
  },
  {
   "cell_type": "markdown",
   "metadata": {},
   "source": [
    "#### Cabin(선실)의 경우 선실 번호 중 선실 등급을 나타내는 첫 번째 알파벳이 중요해 보인다. 왜냐하면 지금보다 부자와 가난한 사람에 대한 차별이 더 있던 시절이었기에 일등실에 투숙한 사람이 삼등실에 투숙한 사람보다 더 살아날 확률이 높았을 것이기 때문이다."
   ]
  },
  {
   "cell_type": "code",
   "execution_count": 13,
   "metadata": {},
   "outputs": [
    {
     "data": {
      "text/plain": [
       "N    687\n",
       "C     59\n",
       "B     47\n",
       "D     33\n",
       "E     32\n",
       "A     15\n",
       "F     13\n",
       "G      4\n",
       "T      1\n",
       "Name: Cabin, dtype: int64"
      ]
     },
     "execution_count": 13,
     "metadata": {},
     "output_type": "execute_result"
    }
   ],
   "source": [
    "# Cabin 앞 글자만 추출 및 추출 결과\n",
    "df['Cabin'] = df['Cabin'].str[:1]\n",
    "df['Cabin'].value_counts()"
   ]
  },
  {
   "cell_type": "markdown",
   "metadata": {},
   "source": [
    "## 2. EDA"
   ]
  },
  {
   "cell_type": "markdown",
   "metadata": {},
   "source": [
    "### 성별에 따른 생존자 그래프 및 분포"
   ]
  },
  {
   "cell_type": "code",
   "execution_count": 14,
   "metadata": {},
   "outputs": [
    {
     "data": {
      "text/plain": [
       "Sex     Survived\n",
       "female  0            81\n",
       "        1           233\n",
       "male    0           468\n",
       "        1           109\n",
       "Name: Survived, dtype: int64"
      ]
     },
     "execution_count": 14,
     "metadata": {},
     "output_type": "execute_result"
    }
   ],
   "source": [
    "# 성별에 따른 생존자 분포\n",
    "df.groupby(['Sex', 'Survived'])['Survived'].count()"
   ]
  },
  {
   "cell_type": "code",
   "execution_count": 15,
   "metadata": {},
   "outputs": [
    {
     "data": {
      "text/plain": [
       "<AxesSubplot:xlabel='Sex', ylabel='Survived'>"
      ]
     },
     "execution_count": 15,
     "metadata": {},
     "output_type": "execute_result"
    },
    {
     "data": {
      "image/png": "[encoded data removed]",
      "text/plain": [
       "<Figure size 432x288 with 1 Axes>"
      ]
     },
     "metadata": {
      "needs_background": "light"
     },
     "output_type": "display_data"
    }
   ],
   "source": [
    "# 성별에 따른 생존자 그래프\n",
    "sns.barplot(x='Sex', y = 'Survived', data=df)"
   ]
  },
  {
   "cell_type": "markdown",
   "metadata": {},
   "source": [
    "#### 여자가 남자에 비해 생존 확률이 훨씬 높음을 알 수 있다."
   ]
  },
  {
   "cell_type": "markdown",
   "metadata": {},
   "source": [
    "### 선실 등급에 따른 생존 확률"
   ]
  },
  {
   "cell_type": "code",
   "execution_count": 16,
   "metadata": {},
   "outputs": [
    {
     "data": {
      "text/plain": [
       "<AxesSubplot:xlabel='Pclass', ylabel='Survived'>"
      ]
     },
     "execution_count": 16,
     "metadata": {},
     "output_type": "execute_result"
    },
    {
     "data": {
      "image/png": "[encoded data removed]",
      "text/plain": [
       "<Figure size 432x288 with 1 Axes>"
      ]
     },
     "metadata": {
      "needs_background": "light"
     },
     "output_type": "display_data"
    }
   ],
   "source": [
    "sns.barplot(x='Pclass', y='Survived', hue='Sex',data=df)"
   ]
  },
  {
   "cell_type": "markdown",
   "metadata": {},
   "source": [
    "#### 일등실의 생존 확률이 삼등실의 생존 확률에 비해 월등히 높다 "
   ]
  },
  {
   "cell_type": "markdown",
   "metadata": {},
   "source": [
    "### 선실 번호 등급에 따른 생존 확률"
   ]
  },
  {
   "cell_type": "code",
   "execution_count": 17,
   "metadata": {},
   "outputs": [
    {
     "data": {
      "text/plain": [
       "<AxesSubplot:xlabel='Cabin', ylabel='Survived'>"
      ]
     },
     "execution_count": 17,
     "metadata": {},
     "output_type": "execute_result"
    },
    {
     "data": {
      "image/png": "[encoded data removed]",
      "text/plain": [
       "<Figure size 432x288 with 1 Axes>"
      ]
     },
     "metadata": {
      "needs_background": "light"
     },
     "output_type": "display_data"
    }
   ],
   "source": [
    "# 선실 번호 등급별 남녀 생존율 그래프\n",
    "sns.barplot(x='Cabin', y='Survived', hue='Sex',data=df)"
   ]
  },
  {
   "cell_type": "code",
   "execution_count": 18,
   "metadata": {},
   "outputs": [
    {
     "data": {
      "text/html": [
       "<div>\n",
       "<style scoped>\n",
       "    .dataframe tbody tr th:only-of-type {\n",
       "        vertical-align: middle;\n",
       "    }\n",
       "\n",
       "    .dataframe tbody tr th {\n",
       "        vertical-align: top;\n",
       "    }\n",
       "\n",
       "    .dataframe thead th {\n",
       "        text-align: right;\n",
       "    }\n",
       "</style>\n",
       "<table border=\"1\" class=\"dataframe\">\n",
       "  <thead>\n",
       "    <tr style=\"text-align: right;\">\n",
       "      <th></th>\n",
       "      <th>PassengerId</th>\n",
       "      <th>Survived</th>\n",
       "      <th>Pclass</th>\n",
       "      <th>Name</th>\n",
       "      <th>Sex</th>\n",
       "      <th>Age</th>\n",
       "      <th>SibSp</th>\n",
       "      <th>Parch</th>\n",
       "      <th>Ticket</th>\n",
       "      <th>Fare</th>\n",
       "      <th>Cabin</th>\n",
       "      <th>Embarked</th>\n",
       "    </tr>\n",
       "  </thead>\n",
       "  <tbody>\n",
       "    <tr>\n",
       "      <th>10</th>\n",
       "      <td>11</td>\n",
       "      <td>1</td>\n",
       "      <td>3</td>\n",
       "      <td>Miss</td>\n",
       "      <td>female</td>\n",
       "      <td>4.0</td>\n",
       "      <td>1</td>\n",
       "      <td>1</td>\n",
       "      <td>PP 9549</td>\n",
       "      <td>16.7000</td>\n",
       "      <td>G</td>\n",
       "      <td>S</td>\n",
       "    </tr>\n",
       "    <tr>\n",
       "      <th>205</th>\n",
       "      <td>206</td>\n",
       "      <td>0</td>\n",
       "      <td>3</td>\n",
       "      <td>Miss</td>\n",
       "      <td>female</td>\n",
       "      <td>2.0</td>\n",
       "      <td>0</td>\n",
       "      <td>1</td>\n",
       "      <td>347054</td>\n",
       "      <td>10.4625</td>\n",
       "      <td>G</td>\n",
       "      <td>S</td>\n",
       "    </tr>\n",
       "    <tr>\n",
       "      <th>251</th>\n",
       "      <td>252</td>\n",
       "      <td>0</td>\n",
       "      <td>3</td>\n",
       "      <td>Mrs</td>\n",
       "      <td>female</td>\n",
       "      <td>29.0</td>\n",
       "      <td>1</td>\n",
       "      <td>1</td>\n",
       "      <td>347054</td>\n",
       "      <td>10.4625</td>\n",
       "      <td>G</td>\n",
       "      <td>S</td>\n",
       "    </tr>\n",
       "    <tr>\n",
       "      <th>394</th>\n",
       "      <td>395</td>\n",
       "      <td>1</td>\n",
       "      <td>3</td>\n",
       "      <td>Mrs</td>\n",
       "      <td>female</td>\n",
       "      <td>24.0</td>\n",
       "      <td>0</td>\n",
       "      <td>2</td>\n",
       "      <td>PP 9549</td>\n",
       "      <td>16.7000</td>\n",
       "      <td>G</td>\n",
       "      <td>S</td>\n",
       "    </tr>\n",
       "  </tbody>\n",
       "</table>\n",
       "</div>"
      ],
      "text/plain": [
       "     PassengerId  Survived  Pclass  Name     Sex   Age  SibSp  Parch   Ticket  \\\n",
       "10            11         1       3  Miss  female   4.0      1      1  PP 9549   \n",
       "205          206         0       3  Miss  female   2.0      0      1   347054   \n",
       "251          252         0       3   Mrs  female  29.0      1      1   347054   \n",
       "394          395         1       3   Mrs  female  24.0      0      2  PP 9549   \n",
       "\n",
       "        Fare Cabin Embarked  \n",
       "10   16.7000     G        S  \n",
       "205  10.4625     G        S  \n",
       "251  10.4625     G        S  \n",
       "394  16.7000     G        S  "
      ]
     },
     "execution_count": 18,
     "metadata": {},
     "output_type": "execute_result"
    }
   ],
   "source": [
    "# 선실 반호 등급 G에는 여자만 존재\n",
    "df[df['Cabin']=='G']"
   ]
  },
  {
   "cell_type": "code",
   "execution_count": 19,
   "metadata": {},
   "outputs": [
    {
     "data": {
      "text/html": [
       "<div>\n",
       "<style scoped>\n",
       "    .dataframe tbody tr th:only-of-type {\n",
       "        vertical-align: middle;\n",
       "    }\n",
       "\n",
       "    .dataframe tbody tr th {\n",
       "        vertical-align: top;\n",
       "    }\n",
       "\n",
       "    .dataframe thead th {\n",
       "        text-align: right;\n",
       "    }\n",
       "</style>\n",
       "<table border=\"1\" class=\"dataframe\">\n",
       "  <thead>\n",
       "    <tr style=\"text-align: right;\">\n",
       "      <th></th>\n",
       "      <th>PassengerId</th>\n",
       "      <th>Survived</th>\n",
       "      <th>Pclass</th>\n",
       "      <th>Name</th>\n",
       "      <th>Sex</th>\n",
       "      <th>Age</th>\n",
       "      <th>SibSp</th>\n",
       "      <th>Parch</th>\n",
       "      <th>Ticket</th>\n",
       "      <th>Fare</th>\n",
       "      <th>Cabin</th>\n",
       "      <th>Embarked</th>\n",
       "    </tr>\n",
       "  </thead>\n",
       "  <tbody>\n",
       "    <tr>\n",
       "      <th>339</th>\n",
       "      <td>340</td>\n",
       "      <td>0</td>\n",
       "      <td>1</td>\n",
       "      <td>Mr</td>\n",
       "      <td>male</td>\n",
       "      <td>45.0</td>\n",
       "      <td>0</td>\n",
       "      <td>0</td>\n",
       "      <td>113784</td>\n",
       "      <td>35.5</td>\n",
       "      <td>T</td>\n",
       "      <td>S</td>\n",
       "    </tr>\n",
       "  </tbody>\n",
       "</table>\n",
       "</div>"
      ],
      "text/plain": [
       "     PassengerId  Survived  Pclass Name   Sex   Age  SibSp  Parch  Ticket  \\\n",
       "339          340         0       1   Mr  male  45.0      0      0  113784   \n",
       "\n",
       "     Fare Cabin Embarked  \n",
       "339  35.5     T        S  "
      ]
     },
     "execution_count": 19,
     "metadata": {},
     "output_type": "execute_result"
    }
   ],
   "source": [
    "# 선실 반호 등급 T의 탑승객은 모두 죽음\n",
    "df[df['Cabin']=='T']"
   ]
  },
  {
   "cell_type": "markdown",
   "metadata": {},
   "source": [
    "G : 여성만 있는 선실\n",
    "\n",
    "T : 1명의 탑승객이 존재하나 모두 죽음\n",
    "\n",
    "선실 번호 등급이 알려지지 않은 사람(N)의 생존율이 낮은 편"
   ]
  },
  {
   "cell_type": "code",
   "execution_count": 20,
   "metadata": {},
   "outputs": [
    {
     "data": {
      "text/plain": [
       "Cabin\n",
       "G    3.000000\n",
       "N    2.639010\n",
       "F    2.384615\n",
       "E    1.312500\n",
       "D    1.121212\n",
       "T    1.000000\n",
       "C    1.000000\n",
       "B    1.000000\n",
       "A    1.000000\n",
       "Name: Pclass, dtype: float64"
      ]
     },
     "execution_count": 20,
     "metadata": {},
     "output_type": "execute_result"
    }
   ],
   "source": [
    "# 선실 번호 등급이 알려지지 않은 사람(N)의 선실 등급 평균이 2.639010으로 높은 편임을 알 수 있다.\n",
    "df.groupby('Cabin')['Pclass'].mean().sort_values(ascending=False)"
   ]
  },
  {
   "cell_type": "markdown",
   "metadata": {},
   "source": [
    "### 탑승자 호칭에 따른 생존자 그래프 및 분포"
   ]
  },
  {
   "cell_type": "code",
   "execution_count": 21,
   "metadata": {},
   "outputs": [
    {
     "data": {
      "text/plain": [
       "Name    Survived\n",
       "Master  0            17\n",
       "        1            23\n",
       "Miss    0            54\n",
       "        1           126\n",
       "Mr      0           436\n",
       "        1            82\n",
       "Mrs     0            27\n",
       "        1           102\n",
       "Others  0            15\n",
       "        1             9\n",
       "Name: Survived, dtype: int64"
      ]
     },
     "execution_count": 21,
     "metadata": {},
     "output_type": "execute_result"
    }
   ],
   "source": [
    "# 탑승자 호칭에 따른 생존자 분포\n",
    "df.groupby(['Name', 'Survived'])['Survived'].count()"
   ]
  },
  {
   "cell_type": "code",
   "execution_count": 22,
   "metadata": {},
   "outputs": [
    {
     "data": {
      "text/plain": [
       "<AxesSubplot:xlabel='Name', ylabel='Survived'>"
      ]
     },
     "execution_count": 22,
     "metadata": {},
     "output_type": "execute_result"
    },
    {
     "data": {
      "image/png": "[encoded data removed]",
      "text/plain": [
       "<Figure size 432x288 with 1 Axes>"
      ]
     },
     "metadata": {
      "needs_background": "light"
     },
     "output_type": "display_data"
    }
   ],
   "source": [
    "# 탑승자 호칭에 따른 생존자 그래프\n",
    "sns.barplot(x='Name', y ='Survived', data=df)"
   ]
  },
  {
   "cell_type": "code",
   "execution_count": 23,
   "metadata": {},
   "outputs": [
    {
     "data": {
      "text/plain": [
       "<AxesSubplot:xlabel='Name', ylabel='Survived'>"
      ]
     },
     "execution_count": 23,
     "metadata": {},
     "output_type": "execute_result"
    },
    {
     "data": {
      "image/png": "[encoded data removed]",
      "text/plain": [
       "<Figure size 432x288 with 1 Axes>"
      ]
     },
     "metadata": {
      "needs_background": "light"
     },
     "output_type": "display_data"
    }
   ],
   "source": [
    "# 탑승자 호칭에 따른 남녀 생존자 그래프\n",
    "sns.barplot(x='Name', y ='Survived', hue='Sex', data=df)"
   ]
  },
  {
   "cell_type": "markdown",
   "metadata": {},
   "source": [
    "Mr의 사망 확률이 높은 편이다. (518명중 436명 사망)\n",
    "\n",
    "남자의 생존 확률이 낮음을 알 수 있다."
   ]
  },
  {
   "cell_type": "markdown",
   "metadata": {},
   "source": [
    "### 나이에 따른 생존 확률"
   ]
  },
  {
   "cell_type": "code",
   "execution_count": 24,
   "metadata": {},
   "outputs": [],
   "source": [
    "# 입력 age에 따라 구분 값을 반환하는 함수 설정\n",
    "def get_category(age):\n",
    "    cat = ''\n",
    "    if age <= -1: cat = 'Unknown'\n",
    "    elif age <= 5: cat = 'Baby'\n",
    "    elif age <= 12: cat = 'Child'\n",
    "    elif age <= 18: cat = 'Teenager'\n",
    "    elif age <= 25: cat = 'Student'\n",
    "    elif age <= 35: cat = 'Young Adult'\n",
    "    elif age <= 60: cat = 'Adult'\n",
    "    else : cat = 'Elderly'\n",
    "        \n",
    "    return cat\n",
    "\n"
   ]
  },
  {
   "cell_type": "code",
   "execution_count": 25,
   "metadata": {},
   "outputs": [
    {
     "data": {
      "text/plain": [
       "<AxesSubplot:xlabel='Age_cat', ylabel='Survived'>"
      ]
     },
     "execution_count": 25,
     "metadata": {},
     "output_type": "execute_result"
    },
    {
     "data": {
      "image/png": "[encoded data removed]",
      "text/plain": [
       "<Figure size 720x432 with 1 Axes>"
      ]
     },
     "metadata": {
      "needs_background": "light"
     },
     "output_type": "display_data"
    }
   ],
   "source": [
    "plt.figure(figsize=(10, 6))\n",
    "\n",
    "# X축의 값 순서 설정\n",
    "group_names = ['Unknown', 'Baby', 'Child', 'Teenager', 'Student', 'Young Adult', 'Adult', 'Elderly']\n",
    "\n",
    "# lambda 식을 사용해 age를 category로 변환\n",
    "df['Age_cat'] = df['Age'].apply(lambda x: get_category(x))\n",
    "# 나이 카테고리, 성별 그룹별 생존률 그래프\n",
    "sns.barplot(x='Age_cat', y='Survived', hue='Sex', data=df, order=group_names)\n",
    "# df.drop('Age_cat', axis=1, inplace=True)"
   ]
  },
  {
   "cell_type": "code",
   "execution_count": 26,
   "metadata": {},
   "outputs": [
    {
     "name": "stdout",
     "output_type": "stream",
     "text": [
      "Age_cat      Sex     Survived\n",
      "Adult        female  0            19\n",
      "                     1            68\n",
      "             male    0           102\n",
      "                     1            24\n",
      "Baby         female  0             5\n",
      "                     1            16\n",
      "             male    0            10\n",
      "                     1            17\n",
      "Child        female  0             8\n",
      "                     1             3\n",
      "             male    0             8\n",
      "                     1             6\n",
      "Elderly      female  1             3\n",
      "             male    0            17\n",
      "                     1             2\n",
      "Student      female  0            27\n",
      "                     1            63\n",
      "             male    0            95\n",
      "                     1            13\n",
      "Teenager     female  0             9\n",
      "                     1            27\n",
      "             male    0            31\n",
      "                     1             3\n",
      "Young Adult  female  0            13\n",
      "                     1            53\n",
      "             male    0           205\n",
      "                     1            44\n",
      "Name: Survived, dtype: int64\n"
     ]
    }
   ],
   "source": [
    "# 나이 카테고리, 성별 그룹별 생존 분포\n",
    "print(df.groupby(['Age_cat', 'Sex', 'Survived'])['Survived'].count())\n",
    "# Age_cat 열 제거\n",
    "df.drop('Age_cat', axis=1, inplace=True)"
   ]
  },
  {
   "cell_type": "markdown",
   "metadata": {},
   "source": [
    "여자 \n",
    "\n",
    "Child는 다른 연령대에 비해 생존 확률 낮음\n",
    "\n",
    "Elderly는 생존 확률 매우 높음(전부 생존)\n",
    "\n",
    "남자\n",
    "\n",
    "Teenager 이상의 생존 확률 매우 낮음"
   ]
  },
  {
   "cell_type": "markdown",
   "metadata": {},
   "source": [
    "### 같이 탑승한 형제 자매, 배우자 인원 수에 따른 생존 확률"
   ]
  },
  {
   "cell_type": "code",
   "execution_count": 27,
   "metadata": {},
   "outputs": [
    {
     "data": {
      "text/plain": [
       "SibSp  Sex     Survived\n",
       "0      female  0            37\n",
       "               1           137\n",
       "       male    0           361\n",
       "               1            73\n",
       "1      female  0            26\n",
       "               1            80\n",
       "       male    0            71\n",
       "               1            32\n",
       "2      female  0             3\n",
       "               1            10\n",
       "       male    0            12\n",
       "               1             3\n",
       "3      female  0             7\n",
       "               1             4\n",
       "       male    0             5\n",
       "4      female  0             4\n",
       "               1             2\n",
       "       male    0            11\n",
       "               1             1\n",
       "5      female  0             1\n",
       "       male    0             4\n",
       "8      female  0             3\n",
       "       male    0             4\n",
       "Name: Survived, dtype: int64"
      ]
     },
     "execution_count": 27,
     "metadata": {},
     "output_type": "execute_result"
    }
   ],
   "source": [
    "# 같이 탑승한 형제 자매, 배우자 인원 수에 따른 생존자 분포\n",
    "df.groupby(['SibSp', 'Sex', 'Survived'])['Survived'].count()"
   ]
  },
  {
   "cell_type": "code",
   "execution_count": 28,
   "metadata": {},
   "outputs": [
    {
     "data": {
      "text/plain": [
       "<AxesSubplot:xlabel='SibSp', ylabel='Survived'>"
      ]
     },
     "execution_count": 28,
     "metadata": {},
     "output_type": "execute_result"
    },
    {
     "data": {
      "image/png": "[encoded data removed]",
      "text/plain": [
       "<Figure size 432x288 with 1 Axes>"
      ]
     },
     "metadata": {
      "needs_background": "light"
     },
     "output_type": "display_data"
    }
   ],
   "source": [
    "# 같이 탑승한 형제 자매, 배우자 인원 수에 따른 생존자 그래프\n",
    "sns.barplot(x='SibSp', y='Survived', hue='Sex', data=df)"
   ]
  },
  {
   "cell_type": "markdown",
   "metadata": {},
   "source": [
    "형제 자매 및 배우자 인원 수가 많을수록 생존확률 낮다.\n",
    "\n",
    "남자의 경우 SibSp 값이 3 이상이면 거의 살아남지 못했다."
   ]
  },
  {
   "cell_type": "markdown",
   "metadata": {},
   "source": [
    "### 같이 탑승한 부모님, 자녀 수에 따른 생존 확률"
   ]
  },
  {
   "cell_type": "code",
   "execution_count": 29,
   "metadata": {},
   "outputs": [
    {
     "data": {
      "text/plain": [
       "Parch  Sex     Survived\n",
       "0      female  0            41\n",
       "               1           153\n",
       "       male    0           404\n",
       "               1            80\n",
       "1      female  0            14\n",
       "               1            46\n",
       "       male    0            39\n",
       "               1            19\n",
       "2      female  0            19\n",
       "               1            30\n",
       "       male    0            21\n",
       "               1            10\n",
       "3      female  0             1\n",
       "               1             3\n",
       "       male    0             1\n",
       "4      female  0             2\n",
       "       male    0             2\n",
       "5      female  0             3\n",
       "               1             1\n",
       "       male    0             1\n",
       "6      female  0             1\n",
       "Name: Survived, dtype: int64"
      ]
     },
     "execution_count": 29,
     "metadata": {},
     "output_type": "execute_result"
    }
   ],
   "source": [
    "# 같이 탑승한 부모님, 자녀 수에 따른 생존자 분포\n",
    "df.groupby(['Parch', 'Sex', 'Survived'])['Survived'].count()"
   ]
  },
  {
   "cell_type": "code",
   "execution_count": 30,
   "metadata": {},
   "outputs": [
    {
     "data": {
      "text/plain": [
       "<AxesSubplot:xlabel='Parch', ylabel='Survived'>"
      ]
     },
     "execution_count": 30,
     "metadata": {},
     "output_type": "execute_result"
    },
    {
     "data": {
      "image/png": "[encoded data removed]",
      "text/plain": [
       "<Figure size 432x288 with 1 Axes>"
      ]
     },
     "metadata": {
      "needs_background": "light"
     },
     "output_type": "display_data"
    }
   ],
   "source": [
    "# 같이 탑승한 부모님, 자녀 인원 수에 따른 생존자 그래프\n",
    "sns.barplot(x='Parch', y='Survived', hue='Sex', data=df)"
   ]
  },
  {
   "cell_type": "markdown",
   "metadata": {},
   "source": [
    "딸린 부모님 및 자녀 인원 수가 많을수록 생존확률 낮다.\n",
    "\n",
    "남자의 경우 Parch 값이 3 이상이면 살아남지 못했다."
   ]
  },
  {
   "cell_type": "markdown",
   "metadata": {},
   "source": [
    "## 3. 라벨 인코딩"
   ]
  },
  {
   "cell_type": "code",
   "execution_count": 31,
   "metadata": {},
   "outputs": [
    {
     "data": {
      "text/html": [
       "<div>\n",
       "<style scoped>\n",
       "    .dataframe tbody tr th:only-of-type {\n",
       "        vertical-align: middle;\n",
       "    }\n",
       "\n",
       "    .dataframe tbody tr th {\n",
       "        vertical-align: top;\n",
       "    }\n",
       "\n",
       "    .dataframe thead th {\n",
       "        text-align: right;\n",
       "    }\n",
       "</style>\n",
       "<table border=\"1\" class=\"dataframe\">\n",
       "  <thead>\n",
       "    <tr style=\"text-align: right;\">\n",
       "      <th></th>\n",
       "      <th>PassengerId</th>\n",
       "      <th>Survived</th>\n",
       "      <th>Pclass</th>\n",
       "      <th>Name</th>\n",
       "      <th>Sex</th>\n",
       "      <th>Age</th>\n",
       "      <th>SibSp</th>\n",
       "      <th>Parch</th>\n",
       "      <th>Ticket</th>\n",
       "      <th>Fare</th>\n",
       "      <th>Cabin</th>\n",
       "      <th>Embarked</th>\n",
       "    </tr>\n",
       "  </thead>\n",
       "  <tbody>\n",
       "    <tr>\n",
       "      <th>0</th>\n",
       "      <td>1</td>\n",
       "      <td>0</td>\n",
       "      <td>3</td>\n",
       "      <td>Mr</td>\n",
       "      <td>male</td>\n",
       "      <td>22.0</td>\n",
       "      <td>1</td>\n",
       "      <td>0</td>\n",
       "      <td>A/5 21171</td>\n",
       "      <td>7.2500</td>\n",
       "      <td>N</td>\n",
       "      <td>S</td>\n",
       "    </tr>\n",
       "    <tr>\n",
       "      <th>1</th>\n",
       "      <td>2</td>\n",
       "      <td>1</td>\n",
       "      <td>1</td>\n",
       "      <td>Mrs</td>\n",
       "      <td>female</td>\n",
       "      <td>38.0</td>\n",
       "      <td>1</td>\n",
       "      <td>0</td>\n",
       "      <td>PC 17599</td>\n",
       "      <td>71.2833</td>\n",
       "      <td>C</td>\n",
       "      <td>C</td>\n",
       "    </tr>\n",
       "    <tr>\n",
       "      <th>2</th>\n",
       "      <td>3</td>\n",
       "      <td>1</td>\n",
       "      <td>3</td>\n",
       "      <td>Miss</td>\n",
       "      <td>female</td>\n",
       "      <td>26.0</td>\n",
       "      <td>0</td>\n",
       "      <td>0</td>\n",
       "      <td>STON/O2. 3101282</td>\n",
       "      <td>7.9250</td>\n",
       "      <td>N</td>\n",
       "      <td>S</td>\n",
       "    </tr>\n",
       "    <tr>\n",
       "      <th>3</th>\n",
       "      <td>4</td>\n",
       "      <td>1</td>\n",
       "      <td>1</td>\n",
       "      <td>Mrs</td>\n",
       "      <td>female</td>\n",
       "      <td>35.0</td>\n",
       "      <td>1</td>\n",
       "      <td>0</td>\n",
       "      <td>113803</td>\n",
       "      <td>53.1000</td>\n",
       "      <td>C</td>\n",
       "      <td>S</td>\n",
       "    </tr>\n",
       "    <tr>\n",
       "      <th>4</th>\n",
       "      <td>5</td>\n",
       "      <td>0</td>\n",
       "      <td>3</td>\n",
       "      <td>Mr</td>\n",
       "      <td>male</td>\n",
       "      <td>35.0</td>\n",
       "      <td>0</td>\n",
       "      <td>0</td>\n",
       "      <td>373450</td>\n",
       "      <td>8.0500</td>\n",
       "      <td>N</td>\n",
       "      <td>S</td>\n",
       "    </tr>\n",
       "  </tbody>\n",
       "</table>\n",
       "</div>"
      ],
      "text/plain": [
       "   PassengerId  Survived  Pclass  Name     Sex   Age  SibSp  Parch  \\\n",
       "0            1         0       3    Mr    male  22.0      1      0   \n",
       "1            2         1       1   Mrs  female  38.0      1      0   \n",
       "2            3         1       3  Miss  female  26.0      0      0   \n",
       "3            4         1       1   Mrs  female  35.0      1      0   \n",
       "4            5         0       3    Mr    male  35.0      0      0   \n",
       "\n",
       "             Ticket     Fare Cabin Embarked  \n",
       "0         A/5 21171   7.2500     N        S  \n",
       "1          PC 17599  71.2833     C        C  \n",
       "2  STON/O2. 3101282   7.9250     N        S  \n",
       "3            113803  53.1000     C        S  \n",
       "4            373450   8.0500     N        S  "
      ]
     },
     "execution_count": 31,
     "metadata": {},
     "output_type": "execute_result"
    }
   ],
   "source": [
    "df.head()"
   ]
  },
  {
   "cell_type": "code",
   "execution_count": 32,
   "metadata": {},
   "outputs": [
    {
     "data": {
      "text/html": [
       "<div>\n",
       "<style scoped>\n",
       "    .dataframe tbody tr th:only-of-type {\n",
       "        vertical-align: middle;\n",
       "    }\n",
       "\n",
       "    .dataframe tbody tr th {\n",
       "        vertical-align: top;\n",
       "    }\n",
       "\n",
       "    .dataframe thead th {\n",
       "        text-align: right;\n",
       "    }\n",
       "</style>\n",
       "<table border=\"1\" class=\"dataframe\">\n",
       "  <thead>\n",
       "    <tr style=\"text-align: right;\">\n",
       "      <th></th>\n",
       "      <th>PassengerId</th>\n",
       "      <th>Survived</th>\n",
       "      <th>Pclass</th>\n",
       "      <th>Name</th>\n",
       "      <th>Sex</th>\n",
       "      <th>Age</th>\n",
       "      <th>SibSp</th>\n",
       "      <th>Parch</th>\n",
       "      <th>Ticket</th>\n",
       "      <th>Fare</th>\n",
       "      <th>Cabin</th>\n",
       "      <th>Embarked</th>\n",
       "    </tr>\n",
       "  </thead>\n",
       "  <tbody>\n",
       "    <tr>\n",
       "      <th>0</th>\n",
       "      <td>1</td>\n",
       "      <td>0</td>\n",
       "      <td>3</td>\n",
       "      <td>2</td>\n",
       "      <td>1</td>\n",
       "      <td>22.0</td>\n",
       "      <td>1</td>\n",
       "      <td>0</td>\n",
       "      <td>A/5 21171</td>\n",
       "      <td>7.2500</td>\n",
       "      <td>7</td>\n",
       "      <td>3</td>\n",
       "    </tr>\n",
       "    <tr>\n",
       "      <th>1</th>\n",
       "      <td>2</td>\n",
       "      <td>1</td>\n",
       "      <td>1</td>\n",
       "      <td>3</td>\n",
       "      <td>0</td>\n",
       "      <td>38.0</td>\n",
       "      <td>1</td>\n",
       "      <td>0</td>\n",
       "      <td>PC 17599</td>\n",
       "      <td>71.2833</td>\n",
       "      <td>2</td>\n",
       "      <td>0</td>\n",
       "    </tr>\n",
       "    <tr>\n",
       "      <th>2</th>\n",
       "      <td>3</td>\n",
       "      <td>1</td>\n",
       "      <td>3</td>\n",
       "      <td>1</td>\n",
       "      <td>0</td>\n",
       "      <td>26.0</td>\n",
       "      <td>0</td>\n",
       "      <td>0</td>\n",
       "      <td>STON/O2. 3101282</td>\n",
       "      <td>7.9250</td>\n",
       "      <td>7</td>\n",
       "      <td>3</td>\n",
       "    </tr>\n",
       "    <tr>\n",
       "      <th>3</th>\n",
       "      <td>4</td>\n",
       "      <td>1</td>\n",
       "      <td>1</td>\n",
       "      <td>3</td>\n",
       "      <td>0</td>\n",
       "      <td>35.0</td>\n",
       "      <td>1</td>\n",
       "      <td>0</td>\n",
       "      <td>113803</td>\n",
       "      <td>53.1000</td>\n",
       "      <td>2</td>\n",
       "      <td>3</td>\n",
       "    </tr>\n",
       "    <tr>\n",
       "      <th>4</th>\n",
       "      <td>5</td>\n",
       "      <td>0</td>\n",
       "      <td>3</td>\n",
       "      <td>2</td>\n",
       "      <td>1</td>\n",
       "      <td>35.0</td>\n",
       "      <td>0</td>\n",
       "      <td>0</td>\n",
       "      <td>373450</td>\n",
       "      <td>8.0500</td>\n",
       "      <td>7</td>\n",
       "      <td>3</td>\n",
       "    </tr>\n",
       "  </tbody>\n",
       "</table>\n",
       "</div>"
      ],
      "text/plain": [
       "   PassengerId  Survived  Pclass  Name  Sex   Age  SibSp  Parch  \\\n",
       "0            1         0       3     2    1  22.0      1      0   \n",
       "1            2         1       1     3    0  38.0      1      0   \n",
       "2            3         1       3     1    0  26.0      0      0   \n",
       "3            4         1       1     3    0  35.0      1      0   \n",
       "4            5         0       3     2    1  35.0      0      0   \n",
       "\n",
       "             Ticket     Fare  Cabin  Embarked  \n",
       "0         A/5 21171   7.2500      7         3  \n",
       "1          PC 17599  71.2833      2         0  \n",
       "2  STON/O2. 3101282   7.9250      7         3  \n",
       "3            113803  53.1000      2         3  \n",
       "4            373450   8.0500      7         3  "
      ]
     },
     "execution_count": 32,
     "metadata": {},
     "output_type": "execute_result"
    }
   ],
   "source": [
    "# 문자열 카테고리 피처를 숫자형 카테고리 피처로 변환\n",
    "def encode_features(dataDF):\n",
    "    features = ['Cabin', 'Sex', 'Embarked', 'Name']\n",
    "    for feature in features:\n",
    "        le = preprocessing.LabelEncoder()\n",
    "        le = le.fit(dataDF[feature])\n",
    "        dataDF[feature] = le.transform(dataDF[feature])\n",
    "        \n",
    "    return dataDF\n",
    "\n",
    "df = encode_features(df)\n",
    "df.head()"
   ]
  },
  {
   "cell_type": "code",
   "execution_count": 33,
   "metadata": {},
   "outputs": [],
   "source": [
    "# 머신러닝 알고리즘에 불필요한 속성 제거\n",
    "df.drop(['PassengerId', 'Ticket'], axis=1, inplace=True)"
   ]
  },
  {
   "cell_type": "code",
   "execution_count": 34,
   "metadata": {},
   "outputs": [
    {
     "data": {
      "text/html": [
       "<div>\n",
       "<style scoped>\n",
       "    .dataframe tbody tr th:only-of-type {\n",
       "        vertical-align: middle;\n",
       "    }\n",
       "\n",
       "    .dataframe tbody tr th {\n",
       "        vertical-align: top;\n",
       "    }\n",
       "\n",
       "    .dataframe thead th {\n",
       "        text-align: right;\n",
       "    }\n",
       "</style>\n",
       "<table border=\"1\" class=\"dataframe\">\n",
       "  <thead>\n",
       "    <tr style=\"text-align: right;\">\n",
       "      <th></th>\n",
       "      <th>Survived</th>\n",
       "      <th>Pclass</th>\n",
       "      <th>Name</th>\n",
       "      <th>Sex</th>\n",
       "      <th>Age</th>\n",
       "      <th>SibSp</th>\n",
       "      <th>Parch</th>\n",
       "      <th>Fare</th>\n",
       "      <th>Cabin</th>\n",
       "      <th>Embarked</th>\n",
       "    </tr>\n",
       "  </thead>\n",
       "  <tbody>\n",
       "    <tr>\n",
       "      <th>0</th>\n",
       "      <td>0</td>\n",
       "      <td>3</td>\n",
       "      <td>2</td>\n",
       "      <td>1</td>\n",
       "      <td>22.0</td>\n",
       "      <td>1</td>\n",
       "      <td>0</td>\n",
       "      <td>7.2500</td>\n",
       "      <td>7</td>\n",
       "      <td>3</td>\n",
       "    </tr>\n",
       "    <tr>\n",
       "      <th>1</th>\n",
       "      <td>1</td>\n",
       "      <td>1</td>\n",
       "      <td>3</td>\n",
       "      <td>0</td>\n",
       "      <td>38.0</td>\n",
       "      <td>1</td>\n",
       "      <td>0</td>\n",
       "      <td>71.2833</td>\n",
       "      <td>2</td>\n",
       "      <td>0</td>\n",
       "    </tr>\n",
       "    <tr>\n",
       "      <th>2</th>\n",
       "      <td>1</td>\n",
       "      <td>3</td>\n",
       "      <td>1</td>\n",
       "      <td>0</td>\n",
       "      <td>26.0</td>\n",
       "      <td>0</td>\n",
       "      <td>0</td>\n",
       "      <td>7.9250</td>\n",
       "      <td>7</td>\n",
       "      <td>3</td>\n",
       "    </tr>\n",
       "    <tr>\n",
       "      <th>3</th>\n",
       "      <td>1</td>\n",
       "      <td>1</td>\n",
       "      <td>3</td>\n",
       "      <td>0</td>\n",
       "      <td>35.0</td>\n",
       "      <td>1</td>\n",
       "      <td>0</td>\n",
       "      <td>53.1000</td>\n",
       "      <td>2</td>\n",
       "      <td>3</td>\n",
       "    </tr>\n",
       "    <tr>\n",
       "      <th>4</th>\n",
       "      <td>0</td>\n",
       "      <td>3</td>\n",
       "      <td>2</td>\n",
       "      <td>1</td>\n",
       "      <td>35.0</td>\n",
       "      <td>0</td>\n",
       "      <td>0</td>\n",
       "      <td>8.0500</td>\n",
       "      <td>7</td>\n",
       "      <td>3</td>\n",
       "    </tr>\n",
       "  </tbody>\n",
       "</table>\n",
       "</div>"
      ],
      "text/plain": [
       "   Survived  Pclass  Name  Sex   Age  SibSp  Parch     Fare  Cabin  Embarked\n",
       "0         0       3     2    1  22.0      1      0   7.2500      7         3\n",
       "1         1       1     3    0  38.0      1      0  71.2833      2         0\n",
       "2         1       3     1    0  26.0      0      0   7.9250      7         3\n",
       "3         1       1     3    0  35.0      1      0  53.1000      2         3\n",
       "4         0       3     2    1  35.0      0      0   8.0500      7         3"
      ]
     },
     "execution_count": 34,
     "metadata": {},
     "output_type": "execute_result"
    }
   ],
   "source": [
    "df.head()"
   ]
  },
  {
   "cell_type": "markdown",
   "metadata": {},
   "source": [
    "## 4. 모델 학습 및 파라미터 서치"
   ]
  },
  {
   "cell_type": "markdown",
   "metadata": {},
   "source": [
    "### AutoML로 정확도 가장 높은 모델 찾기"
   ]
  },
  {
   "cell_type": "code",
   "execution_count": null,
   "metadata": {},
   "outputs": [],
   "source": [
    "# 환경 설정\n",
    "clf = setup(data = df, target = 'Survived', session_id = 123, silent = True) "
   ]
  },
  {
   "cell_type": "code",
   "execution_count": 36,
   "metadata": {},
   "outputs": [
    {
     "data": {
      "text/html": [
       "<style  type=\"text/css\" >\n",
       "    #T_ebfbf274_705c_11eb_83bb_085bd660ec02 th {\n",
       "          text-align: left;\n",
       "    }#T_ebfbf274_705c_11eb_83bb_085bd660ec02row0_col0,#T_ebfbf274_705c_11eb_83bb_085bd660ec02row0_col2,#T_ebfbf274_705c_11eb_83bb_085bd660ec02row0_col3,#T_ebfbf274_705c_11eb_83bb_085bd660ec02row1_col0,#T_ebfbf274_705c_11eb_83bb_085bd660ec02row1_col1,#T_ebfbf274_705c_11eb_83bb_085bd660ec02row1_col3,#T_ebfbf274_705c_11eb_83bb_085bd660ec02row1_col4,#T_ebfbf274_705c_11eb_83bb_085bd660ec02row1_col5,#T_ebfbf274_705c_11eb_83bb_085bd660ec02row1_col6,#T_ebfbf274_705c_11eb_83bb_085bd660ec02row1_col7,#T_ebfbf274_705c_11eb_83bb_085bd660ec02row2_col0,#T_ebfbf274_705c_11eb_83bb_085bd660ec02row2_col1,#T_ebfbf274_705c_11eb_83bb_085bd660ec02row2_col2,#T_ebfbf274_705c_11eb_83bb_085bd660ec02row2_col3,#T_ebfbf274_705c_11eb_83bb_085bd660ec02row2_col4,#T_ebfbf274_705c_11eb_83bb_085bd660ec02row2_col5,#T_ebfbf274_705c_11eb_83bb_085bd660ec02row2_col6,#T_ebfbf274_705c_11eb_83bb_085bd660ec02row2_col7,#T_ebfbf274_705c_11eb_83bb_085bd660ec02row3_col0,#T_ebfbf274_705c_11eb_83bb_085bd660ec02row3_col1,#T_ebfbf274_705c_11eb_83bb_085bd660ec02row3_col2,#T_ebfbf274_705c_11eb_83bb_085bd660ec02row3_col3,#T_ebfbf274_705c_11eb_83bb_085bd660ec02row3_col4,#T_ebfbf274_705c_11eb_83bb_085bd660ec02row3_col5,#T_ebfbf274_705c_11eb_83bb_085bd660ec02row3_col6,#T_ebfbf274_705c_11eb_83bb_085bd660ec02row3_col7,#T_ebfbf274_705c_11eb_83bb_085bd660ec02row4_col0,#T_ebfbf274_705c_11eb_83bb_085bd660ec02row4_col1,#T_ebfbf274_705c_11eb_83bb_085bd660ec02row4_col2,#T_ebfbf274_705c_11eb_83bb_085bd660ec02row4_col3,#T_ebfbf274_705c_11eb_83bb_085bd660ec02row4_col4,#T_ebfbf274_705c_11eb_83bb_085bd660ec02row4_col5,#T_ebfbf274_705c_11eb_83bb_085bd660ec02row4_col6,#T_ebfbf274_705c_11eb_83bb_085bd660ec02row4_col7,#T_ebfbf274_705c_11eb_83bb_085bd660ec02row5_col0,#T_ebfbf274_705c_11eb_83bb_085bd660ec02row5_col1,#T_ebfbf274_705c_11eb_83bb_085bd660ec02row5_col2,#T_ebfbf274_705c_11eb_83bb_085bd660ec02row5_col3,#T_ebfbf274_705c_11eb_83bb_085bd660ec02row5_col4,#T_ebfbf274_705c_11eb_83bb_085bd660ec02row5_col5,#T_ebfbf274_705c_11eb_83bb_085bd660ec02row5_col6,#T_ebfbf274_705c_11eb_83bb_085bd660ec02row5_col7,#T_ebfbf274_705c_11eb_83bb_085bd660ec02row6_col0,#T_ebfbf274_705c_11eb_83bb_085bd660ec02row6_col1,#T_ebfbf274_705c_11eb_83bb_085bd660ec02row6_col2,#T_ebfbf274_705c_11eb_83bb_085bd660ec02row6_col3,#T_ebfbf274_705c_11eb_83bb_085bd660ec02row6_col4,#T_ebfbf274_705c_11eb_83bb_085bd660ec02row6_col5,#T_ebfbf274_705c_11eb_83bb_085bd660ec02row6_col6,#T_ebfbf274_705c_11eb_83bb_085bd660ec02row6_col7,#T_ebfbf274_705c_11eb_83bb_085bd660ec02row7_col0,#T_ebfbf274_705c_11eb_83bb_085bd660ec02row7_col1,#T_ebfbf274_705c_11eb_83bb_085bd660ec02row7_col2,#T_ebfbf274_705c_11eb_83bb_085bd660ec02row7_col3,#T_ebfbf274_705c_11eb_83bb_085bd660ec02row7_col4,#T_ebfbf274_705c_11eb_83bb_085bd660ec02row7_col5,#T_ebfbf274_705c_11eb_83bb_085bd660ec02row7_col6,#T_ebfbf274_705c_11eb_83bb_085bd660ec02row7_col7,#T_ebfbf274_705c_11eb_83bb_085bd660ec02row8_col0,#T_ebfbf274_705c_11eb_83bb_085bd660ec02row8_col1,#T_ebfbf274_705c_11eb_83bb_085bd660ec02row8_col2,#T_ebfbf274_705c_11eb_83bb_085bd660ec02row8_col3,#T_ebfbf274_705c_11eb_83bb_085bd660ec02row8_col4,#T_ebfbf274_705c_11eb_83bb_085bd660ec02row8_col5,#T_ebfbf274_705c_11eb_83bb_085bd660ec02row8_col6,#T_ebfbf274_705c_11eb_83bb_085bd660ec02row8_col7,#T_ebfbf274_705c_11eb_83bb_085bd660ec02row9_col0,#T_ebfbf274_705c_11eb_83bb_085bd660ec02row9_col1,#T_ebfbf274_705c_11eb_83bb_085bd660ec02row9_col2,#T_ebfbf274_705c_11eb_83bb_085bd660ec02row9_col3,#T_ebfbf274_705c_11eb_83bb_085bd660ec02row9_col4,#T_ebfbf274_705c_11eb_83bb_085bd660ec02row9_col5,#T_ebfbf274_705c_11eb_83bb_085bd660ec02row9_col6,#T_ebfbf274_705c_11eb_83bb_085bd660ec02row9_col7,#T_ebfbf274_705c_11eb_83bb_085bd660ec02row10_col0,#T_ebfbf274_705c_11eb_83bb_085bd660ec02row10_col1,#T_ebfbf274_705c_11eb_83bb_085bd660ec02row10_col2,#T_ebfbf274_705c_11eb_83bb_085bd660ec02row10_col3,#T_ebfbf274_705c_11eb_83bb_085bd660ec02row10_col4,#T_ebfbf274_705c_11eb_83bb_085bd660ec02row10_col5,#T_ebfbf274_705c_11eb_83bb_085bd660ec02row10_col6,#T_ebfbf274_705c_11eb_83bb_085bd660ec02row10_col7,#T_ebfbf274_705c_11eb_83bb_085bd660ec02row11_col0,#T_ebfbf274_705c_11eb_83bb_085bd660ec02row11_col1,#T_ebfbf274_705c_11eb_83bb_085bd660ec02row11_col2,#T_ebfbf274_705c_11eb_83bb_085bd660ec02row11_col3,#T_ebfbf274_705c_11eb_83bb_085bd660ec02row11_col4,#T_ebfbf274_705c_11eb_83bb_085bd660ec02row11_col5,#T_ebfbf274_705c_11eb_83bb_085bd660ec02row11_col6,#T_ebfbf274_705c_11eb_83bb_085bd660ec02row11_col7,#T_ebfbf274_705c_11eb_83bb_085bd660ec02row12_col0,#T_ebfbf274_705c_11eb_83bb_085bd660ec02row12_col1,#T_ebfbf274_705c_11eb_83bb_085bd660ec02row12_col2,#T_ebfbf274_705c_11eb_83bb_085bd660ec02row12_col3,#T_ebfbf274_705c_11eb_83bb_085bd660ec02row12_col4,#T_ebfbf274_705c_11eb_83bb_085bd660ec02row12_col5,#T_ebfbf274_705c_11eb_83bb_085bd660ec02row12_col6,#T_ebfbf274_705c_11eb_83bb_085bd660ec02row12_col7,#T_ebfbf274_705c_11eb_83bb_085bd660ec02row13_col0,#T_ebfbf274_705c_11eb_83bb_085bd660ec02row13_col1,#T_ebfbf274_705c_11eb_83bb_085bd660ec02row13_col2,#T_ebfbf274_705c_11eb_83bb_085bd660ec02row13_col3,#T_ebfbf274_705c_11eb_83bb_085bd660ec02row13_col4,#T_ebfbf274_705c_11eb_83bb_085bd660ec02row13_col5,#T_ebfbf274_705c_11eb_83bb_085bd660ec02row13_col6,#T_ebfbf274_705c_11eb_83bb_085bd660ec02row13_col7,#T_ebfbf274_705c_11eb_83bb_085bd660ec02row14_col0,#T_ebfbf274_705c_11eb_83bb_085bd660ec02row14_col1,#T_ebfbf274_705c_11eb_83bb_085bd660ec02row14_col2,#T_ebfbf274_705c_11eb_83bb_085bd660ec02row14_col4,#T_ebfbf274_705c_11eb_83bb_085bd660ec02row14_col5,#T_ebfbf274_705c_11eb_83bb_085bd660ec02row14_col6,#T_ebfbf274_705c_11eb_83bb_085bd660ec02row14_col7{\n",
       "            text-align:  left;\n",
       "            text-align:  left;\n",
       "        }#T_ebfbf274_705c_11eb_83bb_085bd660ec02row0_col1,#T_ebfbf274_705c_11eb_83bb_085bd660ec02row0_col4,#T_ebfbf274_705c_11eb_83bb_085bd660ec02row0_col5,#T_ebfbf274_705c_11eb_83bb_085bd660ec02row0_col6,#T_ebfbf274_705c_11eb_83bb_085bd660ec02row0_col7,#T_ebfbf274_705c_11eb_83bb_085bd660ec02row1_col2,#T_ebfbf274_705c_11eb_83bb_085bd660ec02row14_col3{\n",
       "            text-align:  left;\n",
       "            text-align:  left;\n",
       "            background-color:  yellow;\n",
       "        }#T_ebfbf274_705c_11eb_83bb_085bd660ec02row0_col8,#T_ebfbf274_705c_11eb_83bb_085bd660ec02row1_col8,#T_ebfbf274_705c_11eb_83bb_085bd660ec02row2_col8,#T_ebfbf274_705c_11eb_83bb_085bd660ec02row3_col8,#T_ebfbf274_705c_11eb_83bb_085bd660ec02row4_col8,#T_ebfbf274_705c_11eb_83bb_085bd660ec02row5_col8,#T_ebfbf274_705c_11eb_83bb_085bd660ec02row6_col8,#T_ebfbf274_705c_11eb_83bb_085bd660ec02row7_col8,#T_ebfbf274_705c_11eb_83bb_085bd660ec02row8_col8,#T_ebfbf274_705c_11eb_83bb_085bd660ec02row9_col8,#T_ebfbf274_705c_11eb_83bb_085bd660ec02row10_col8,#T_ebfbf274_705c_11eb_83bb_085bd660ec02row11_col8,#T_ebfbf274_705c_11eb_83bb_085bd660ec02row12_col8,#T_ebfbf274_705c_11eb_83bb_085bd660ec02row13_col8{\n",
       "            text-align:  left;\n",
       "            text-align:  left;\n",
       "            background-color:  lightgrey;\n",
       "        }#T_ebfbf274_705c_11eb_83bb_085bd660ec02row14_col8{\n",
       "            text-align:  left;\n",
       "            text-align:  left;\n",
       "            background-color:  yellow;\n",
       "            background-color:  lightgrey;\n",
       "        }</style><table id=\"T_ebfbf274_705c_11eb_83bb_085bd660ec02\" ><thead>    <tr>        <th class=\"blank level0\" ></th>        <th class=\"col_heading level0 col0\" >Model</th>        <th class=\"col_heading level0 col1\" >Accuracy</th>        <th class=\"col_heading level0 col2\" >AUC</th>        <th class=\"col_heading level0 col3\" >Recall</th>        <th class=\"col_heading level0 col4\" >Prec.</th>        <th class=\"col_heading level0 col5\" >F1</th>        <th class=\"col_heading level0 col6\" >Kappa</th>        <th class=\"col_heading level0 col7\" >MCC</th>        <th class=\"col_heading level0 col8\" >TT (Sec)</th>    </tr></thead><tbody>\n",
       "                <tr>\n",
       "                        <th id=\"T_ebfbf274_705c_11eb_83bb_085bd660ec02level0_row0\" class=\"row_heading level0 row0\" >gbc</th>\n",
       "                        <td id=\"T_ebfbf274_705c_11eb_83bb_085bd660ec02row0_col0\" class=\"data row0 col0\" >Gradient Boosting Classifier</td>\n",
       "                        <td id=\"T_ebfbf274_705c_11eb_83bb_085bd660ec02row0_col1\" class=\"data row0 col1\" >0.8250</td>\n",
       "                        <td id=\"T_ebfbf274_705c_11eb_83bb_085bd660ec02row0_col2\" class=\"data row0 col2\" >0.8562</td>\n",
       "                        <td id=\"T_ebfbf274_705c_11eb_83bb_085bd660ec02row0_col3\" class=\"data row0 col3\" >0.7087</td>\n",
       "                        <td id=\"T_ebfbf274_705c_11eb_83bb_085bd660ec02row0_col4\" class=\"data row0 col4\" >0.8208</td>\n",
       "                        <td id=\"T_ebfbf274_705c_11eb_83bb_085bd660ec02row0_col5\" class=\"data row0 col5\" >0.7589</td>\n",
       "                        <td id=\"T_ebfbf274_705c_11eb_83bb_085bd660ec02row0_col6\" class=\"data row0 col6\" >0.6230</td>\n",
       "                        <td id=\"T_ebfbf274_705c_11eb_83bb_085bd660ec02row0_col7\" class=\"data row0 col7\" >0.6284</td>\n",
       "                        <td id=\"T_ebfbf274_705c_11eb_83bb_085bd660ec02row0_col8\" class=\"data row0 col8\" >0.0170</td>\n",
       "            </tr>\n",
       "            <tr>\n",
       "                        <th id=\"T_ebfbf274_705c_11eb_83bb_085bd660ec02level0_row1\" class=\"row_heading level0 row1\" >catboost</th>\n",
       "                        <td id=\"T_ebfbf274_705c_11eb_83bb_085bd660ec02row1_col0\" class=\"data row1 col0\" >CatBoost Classifier</td>\n",
       "                        <td id=\"T_ebfbf274_705c_11eb_83bb_085bd660ec02row1_col1\" class=\"data row1 col1\" >0.8202</td>\n",
       "                        <td id=\"T_ebfbf274_705c_11eb_83bb_085bd660ec02row1_col2\" class=\"data row1 col2\" >0.8671</td>\n",
       "                        <td id=\"T_ebfbf274_705c_11eb_83bb_085bd660ec02row1_col3\" class=\"data row1 col3\" >0.7217</td>\n",
       "                        <td id=\"T_ebfbf274_705c_11eb_83bb_085bd660ec02row1_col4\" class=\"data row1 col4\" >0.8020</td>\n",
       "                        <td id=\"T_ebfbf274_705c_11eb_83bb_085bd660ec02row1_col5\" class=\"data row1 col5\" >0.7579</td>\n",
       "                        <td id=\"T_ebfbf274_705c_11eb_83bb_085bd660ec02row1_col6\" class=\"data row1 col6\" >0.6158</td>\n",
       "                        <td id=\"T_ebfbf274_705c_11eb_83bb_085bd660ec02row1_col7\" class=\"data row1 col7\" >0.6195</td>\n",
       "                        <td id=\"T_ebfbf274_705c_11eb_83bb_085bd660ec02row1_col8\" class=\"data row1 col8\" >0.5430</td>\n",
       "            </tr>\n",
       "            <tr>\n",
       "                        <th id=\"T_ebfbf274_705c_11eb_83bb_085bd660ec02level0_row2\" class=\"row_heading level0 row2\" >lda</th>\n",
       "                        <td id=\"T_ebfbf274_705c_11eb_83bb_085bd660ec02row2_col0\" class=\"data row2 col0\" >Linear Discriminant Analysis</td>\n",
       "                        <td id=\"T_ebfbf274_705c_11eb_83bb_085bd660ec02row2_col1\" class=\"data row2 col1\" >0.8043</td>\n",
       "                        <td id=\"T_ebfbf274_705c_11eb_83bb_085bd660ec02row2_col2\" class=\"data row2 col2\" >0.8520</td>\n",
       "                        <td id=\"T_ebfbf274_705c_11eb_83bb_085bd660ec02row2_col3\" class=\"data row2 col3\" >0.7177</td>\n",
       "                        <td id=\"T_ebfbf274_705c_11eb_83bb_085bd660ec02row2_col4\" class=\"data row2 col4\" >0.7687</td>\n",
       "                        <td id=\"T_ebfbf274_705c_11eb_83bb_085bd660ec02row2_col5\" class=\"data row2 col5\" >0.7414</td>\n",
       "                        <td id=\"T_ebfbf274_705c_11eb_83bb_085bd660ec02row2_col6\" class=\"data row2 col6\" >0.5844</td>\n",
       "                        <td id=\"T_ebfbf274_705c_11eb_83bb_085bd660ec02row2_col7\" class=\"data row2 col7\" >0.5861</td>\n",
       "                        <td id=\"T_ebfbf274_705c_11eb_83bb_085bd660ec02row2_col8\" class=\"data row2 col8\" >0.0060</td>\n",
       "            </tr>\n",
       "            <tr>\n",
       "                        <th id=\"T_ebfbf274_705c_11eb_83bb_085bd660ec02level0_row3\" class=\"row_heading level0 row3\" >lr</th>\n",
       "                        <td id=\"T_ebfbf274_705c_11eb_83bb_085bd660ec02row3_col0\" class=\"data row3 col0\" >Logistic Regression</td>\n",
       "                        <td id=\"T_ebfbf274_705c_11eb_83bb_085bd660ec02row3_col1\" class=\"data row3 col1\" >0.8026</td>\n",
       "                        <td id=\"T_ebfbf274_705c_11eb_83bb_085bd660ec02row3_col2\" class=\"data row3 col2\" >0.8556</td>\n",
       "                        <td id=\"T_ebfbf274_705c_11eb_83bb_085bd660ec02row3_col3\" class=\"data row3 col3\" >0.7257</td>\n",
       "                        <td id=\"T_ebfbf274_705c_11eb_83bb_085bd660ec02row3_col4\" class=\"data row3 col4\" >0.7637</td>\n",
       "                        <td id=\"T_ebfbf274_705c_11eb_83bb_085bd660ec02row3_col5\" class=\"data row3 col5\" >0.7426</td>\n",
       "                        <td id=\"T_ebfbf274_705c_11eb_83bb_085bd660ec02row3_col6\" class=\"data row3 col6\" >0.5828</td>\n",
       "                        <td id=\"T_ebfbf274_705c_11eb_83bb_085bd660ec02row3_col7\" class=\"data row3 col7\" >0.5849</td>\n",
       "                        <td id=\"T_ebfbf274_705c_11eb_83bb_085bd660ec02row3_col8\" class=\"data row3 col8\" >0.5120</td>\n",
       "            </tr>\n",
       "            <tr>\n",
       "                        <th id=\"T_ebfbf274_705c_11eb_83bb_085bd660ec02level0_row4\" class=\"row_heading level0 row4\" >ada</th>\n",
       "                        <td id=\"T_ebfbf274_705c_11eb_83bb_085bd660ec02row4_col0\" class=\"data row4 col0\" >Ada Boost Classifier</td>\n",
       "                        <td id=\"T_ebfbf274_705c_11eb_83bb_085bd660ec02row4_col1\" class=\"data row4 col1\" >0.8026</td>\n",
       "                        <td id=\"T_ebfbf274_705c_11eb_83bb_085bd660ec02row4_col2\" class=\"data row4 col2\" >0.8459</td>\n",
       "                        <td id=\"T_ebfbf274_705c_11eb_83bb_085bd660ec02row4_col3\" class=\"data row4 col3\" >0.7667</td>\n",
       "                        <td id=\"T_ebfbf274_705c_11eb_83bb_085bd660ec02row4_col4\" class=\"data row4 col4\" >0.7414</td>\n",
       "                        <td id=\"T_ebfbf274_705c_11eb_83bb_085bd660ec02row4_col5\" class=\"data row4 col5\" >0.7520</td>\n",
       "                        <td id=\"T_ebfbf274_705c_11eb_83bb_085bd660ec02row4_col6\" class=\"data row4 col6\" >0.5883</td>\n",
       "                        <td id=\"T_ebfbf274_705c_11eb_83bb_085bd660ec02row4_col7\" class=\"data row4 col7\" >0.5906</td>\n",
       "                        <td id=\"T_ebfbf274_705c_11eb_83bb_085bd660ec02row4_col8\" class=\"data row4 col8\" >0.0160</td>\n",
       "            </tr>\n",
       "            <tr>\n",
       "                        <th id=\"T_ebfbf274_705c_11eb_83bb_085bd660ec02level0_row5\" class=\"row_heading level0 row5\" >ridge</th>\n",
       "                        <td id=\"T_ebfbf274_705c_11eb_83bb_085bd660ec02row5_col0\" class=\"data row5 col0\" >Ridge Classifier</td>\n",
       "                        <td id=\"T_ebfbf274_705c_11eb_83bb_085bd660ec02row5_col1\" class=\"data row5 col1\" >0.8011</td>\n",
       "                        <td id=\"T_ebfbf274_705c_11eb_83bb_085bd660ec02row5_col2\" class=\"data row5 col2\" >0.0000</td>\n",
       "                        <td id=\"T_ebfbf274_705c_11eb_83bb_085bd660ec02row5_col3\" class=\"data row5 col3\" >0.7137</td>\n",
       "                        <td id=\"T_ebfbf274_705c_11eb_83bb_085bd660ec02row5_col4\" class=\"data row5 col4\" >0.7648</td>\n",
       "                        <td id=\"T_ebfbf274_705c_11eb_83bb_085bd660ec02row5_col5\" class=\"data row5 col5\" >0.7374</td>\n",
       "                        <td id=\"T_ebfbf274_705c_11eb_83bb_085bd660ec02row5_col6\" class=\"data row5 col6\" >0.5777</td>\n",
       "                        <td id=\"T_ebfbf274_705c_11eb_83bb_085bd660ec02row5_col7\" class=\"data row5 col7\" >0.5795</td>\n",
       "                        <td id=\"T_ebfbf274_705c_11eb_83bb_085bd660ec02row5_col8\" class=\"data row5 col8\" >0.0060</td>\n",
       "            </tr>\n",
       "            <tr>\n",
       "                        <th id=\"T_ebfbf274_705c_11eb_83bb_085bd660ec02level0_row6\" class=\"row_heading level0 row6\" >lightgbm</th>\n",
       "                        <td id=\"T_ebfbf274_705c_11eb_83bb_085bd660ec02row6_col0\" class=\"data row6 col0\" >Light Gradient Boosting Machine</td>\n",
       "                        <td id=\"T_ebfbf274_705c_11eb_83bb_085bd660ec02row6_col1\" class=\"data row6 col1\" >0.7913</td>\n",
       "                        <td id=\"T_ebfbf274_705c_11eb_83bb_085bd660ec02row6_col2\" class=\"data row6 col2\" >0.8571</td>\n",
       "                        <td id=\"T_ebfbf274_705c_11eb_83bb_085bd660ec02row6_col3\" class=\"data row6 col3\" >0.6880</td>\n",
       "                        <td id=\"T_ebfbf274_705c_11eb_83bb_085bd660ec02row6_col4\" class=\"data row6 col4\" >0.7648</td>\n",
       "                        <td id=\"T_ebfbf274_705c_11eb_83bb_085bd660ec02row6_col5\" class=\"data row6 col5\" >0.7194</td>\n",
       "                        <td id=\"T_ebfbf274_705c_11eb_83bb_085bd660ec02row6_col6\" class=\"data row6 col6\" >0.5545</td>\n",
       "                        <td id=\"T_ebfbf274_705c_11eb_83bb_085bd660ec02row6_col7\" class=\"data row6 col7\" >0.5604</td>\n",
       "                        <td id=\"T_ebfbf274_705c_11eb_83bb_085bd660ec02row6_col8\" class=\"data row6 col8\" >0.0230</td>\n",
       "            </tr>\n",
       "            <tr>\n",
       "                        <th id=\"T_ebfbf274_705c_11eb_83bb_085bd660ec02level0_row7\" class=\"row_heading level0 row7\" >xgboost</th>\n",
       "                        <td id=\"T_ebfbf274_705c_11eb_83bb_085bd660ec02row7_col0\" class=\"data row7 col0\" >Extreme Gradient Boosting</td>\n",
       "                        <td id=\"T_ebfbf274_705c_11eb_83bb_085bd660ec02row7_col1\" class=\"data row7 col1\" >0.7897</td>\n",
       "                        <td id=\"T_ebfbf274_705c_11eb_83bb_085bd660ec02row7_col2\" class=\"data row7 col2\" >0.8478</td>\n",
       "                        <td id=\"T_ebfbf274_705c_11eb_83bb_085bd660ec02row7_col3\" class=\"data row7 col3\" >0.7007</td>\n",
       "                        <td id=\"T_ebfbf274_705c_11eb_83bb_085bd660ec02row7_col4\" class=\"data row7 col4\" >0.7577</td>\n",
       "                        <td id=\"T_ebfbf274_705c_11eb_83bb_085bd660ec02row7_col5\" class=\"data row7 col5\" >0.7228</td>\n",
       "                        <td id=\"T_ebfbf274_705c_11eb_83bb_085bd660ec02row7_col6\" class=\"data row7 col6\" >0.5544</td>\n",
       "                        <td id=\"T_ebfbf274_705c_11eb_83bb_085bd660ec02row7_col7\" class=\"data row7 col7\" >0.5599</td>\n",
       "                        <td id=\"T_ebfbf274_705c_11eb_83bb_085bd660ec02row7_col8\" class=\"data row7 col8\" >0.1200</td>\n",
       "            </tr>\n",
       "            <tr>\n",
       "                        <th id=\"T_ebfbf274_705c_11eb_83bb_085bd660ec02level0_row8\" class=\"row_heading level0 row8\" >rf</th>\n",
       "                        <td id=\"T_ebfbf274_705c_11eb_83bb_085bd660ec02row8_col0\" class=\"data row8 col0\" >Random Forest Classifier</td>\n",
       "                        <td id=\"T_ebfbf274_705c_11eb_83bb_085bd660ec02row8_col1\" class=\"data row8 col1\" >0.7880</td>\n",
       "                        <td id=\"T_ebfbf274_705c_11eb_83bb_085bd660ec02row8_col2\" class=\"data row8 col2\" >0.8637</td>\n",
       "                        <td id=\"T_ebfbf274_705c_11eb_83bb_085bd660ec02row8_col3\" class=\"data row8 col3\" >0.7212</td>\n",
       "                        <td id=\"T_ebfbf274_705c_11eb_83bb_085bd660ec02row8_col4\" class=\"data row8 col4\" >0.7376</td>\n",
       "                        <td id=\"T_ebfbf274_705c_11eb_83bb_085bd660ec02row8_col5\" class=\"data row8 col5\" >0.7259</td>\n",
       "                        <td id=\"T_ebfbf274_705c_11eb_83bb_085bd660ec02row8_col6\" class=\"data row8 col6\" >0.5537</td>\n",
       "                        <td id=\"T_ebfbf274_705c_11eb_83bb_085bd660ec02row8_col7\" class=\"data row8 col7\" >0.5569</td>\n",
       "                        <td id=\"T_ebfbf274_705c_11eb_83bb_085bd660ec02row8_col8\" class=\"data row8 col8\" >0.0430</td>\n",
       "            </tr>\n",
       "            <tr>\n",
       "                        <th id=\"T_ebfbf274_705c_11eb_83bb_085bd660ec02level0_row9\" class=\"row_heading level0 row9\" >et</th>\n",
       "                        <td id=\"T_ebfbf274_705c_11eb_83bb_085bd660ec02row9_col0\" class=\"data row9 col0\" >Extra Trees Classifier</td>\n",
       "                        <td id=\"T_ebfbf274_705c_11eb_83bb_085bd660ec02row9_col1\" class=\"data row9 col1\" >0.7785</td>\n",
       "                        <td id=\"T_ebfbf274_705c_11eb_83bb_085bd660ec02row9_col2\" class=\"data row9 col2\" >0.8425</td>\n",
       "                        <td id=\"T_ebfbf274_705c_11eb_83bb_085bd660ec02row9_col3\" class=\"data row9 col3\" >0.7015</td>\n",
       "                        <td id=\"T_ebfbf274_705c_11eb_83bb_085bd660ec02row9_col4\" class=\"data row9 col4\" >0.7281</td>\n",
       "                        <td id=\"T_ebfbf274_705c_11eb_83bb_085bd660ec02row9_col5\" class=\"data row9 col5\" >0.7111</td>\n",
       "                        <td id=\"T_ebfbf274_705c_11eb_83bb_085bd660ec02row9_col6\" class=\"data row9 col6\" >0.5322</td>\n",
       "                        <td id=\"T_ebfbf274_705c_11eb_83bb_085bd660ec02row9_col7\" class=\"data row9 col7\" >0.5357</td>\n",
       "                        <td id=\"T_ebfbf274_705c_11eb_83bb_085bd660ec02row9_col8\" class=\"data row9 col8\" >0.0400</td>\n",
       "            </tr>\n",
       "            <tr>\n",
       "                        <th id=\"T_ebfbf274_705c_11eb_83bb_085bd660ec02level0_row10\" class=\"row_heading level0 row10\" >dt</th>\n",
       "                        <td id=\"T_ebfbf274_705c_11eb_83bb_085bd660ec02row10_col0\" class=\"data row10 col0\" >Decision Tree Classifier</td>\n",
       "                        <td id=\"T_ebfbf274_705c_11eb_83bb_085bd660ec02row10_col1\" class=\"data row10 col1\" >0.7496</td>\n",
       "                        <td id=\"T_ebfbf274_705c_11eb_83bb_085bd660ec02row10_col2\" class=\"data row10 col2\" >0.7430</td>\n",
       "                        <td id=\"T_ebfbf274_705c_11eb_83bb_085bd660ec02row10_col3\" class=\"data row10 col3\" >0.7172</td>\n",
       "                        <td id=\"T_ebfbf274_705c_11eb_83bb_085bd660ec02row10_col4\" class=\"data row10 col4\" >0.6707</td>\n",
       "                        <td id=\"T_ebfbf274_705c_11eb_83bb_085bd660ec02row10_col5\" class=\"data row10 col5\" >0.6909</td>\n",
       "                        <td id=\"T_ebfbf274_705c_11eb_83bb_085bd660ec02row10_col6\" class=\"data row10 col6\" >0.4811</td>\n",
       "                        <td id=\"T_ebfbf274_705c_11eb_83bb_085bd660ec02row10_col7\" class=\"data row10 col7\" >0.4841</td>\n",
       "                        <td id=\"T_ebfbf274_705c_11eb_83bb_085bd660ec02row10_col8\" class=\"data row10 col8\" >0.0060</td>\n",
       "            </tr>\n",
       "            <tr>\n",
       "                        <th id=\"T_ebfbf274_705c_11eb_83bb_085bd660ec02level0_row11\" class=\"row_heading level0 row11\" >svm</th>\n",
       "                        <td id=\"T_ebfbf274_705c_11eb_83bb_085bd660ec02row11_col0\" class=\"data row11 col0\" >SVM - Linear Kernel</td>\n",
       "                        <td id=\"T_ebfbf274_705c_11eb_83bb_085bd660ec02row11_col1\" class=\"data row11 col1\" >0.7033</td>\n",
       "                        <td id=\"T_ebfbf274_705c_11eb_83bb_085bd660ec02row11_col2\" class=\"data row11 col2\" >0.0000</td>\n",
       "                        <td id=\"T_ebfbf274_705c_11eb_83bb_085bd660ec02row11_col3\" class=\"data row11 col3\" >0.4920</td>\n",
       "                        <td id=\"T_ebfbf274_705c_11eb_83bb_085bd660ec02row11_col4\" class=\"data row11 col4\" >0.5444</td>\n",
       "                        <td id=\"T_ebfbf274_705c_11eb_83bb_085bd660ec02row11_col5\" class=\"data row11 col5\" >0.5002</td>\n",
       "                        <td id=\"T_ebfbf274_705c_11eb_83bb_085bd660ec02row11_col6\" class=\"data row11 col6\" >0.3372</td>\n",
       "                        <td id=\"T_ebfbf274_705c_11eb_83bb_085bd660ec02row11_col7\" class=\"data row11 col7\" >0.3460</td>\n",
       "                        <td id=\"T_ebfbf274_705c_11eb_83bb_085bd660ec02row11_col8\" class=\"data row11 col8\" >0.0060</td>\n",
       "            </tr>\n",
       "            <tr>\n",
       "                        <th id=\"T_ebfbf274_705c_11eb_83bb_085bd660ec02level0_row12\" class=\"row_heading level0 row12\" >knn</th>\n",
       "                        <td id=\"T_ebfbf274_705c_11eb_83bb_085bd660ec02row12_col0\" class=\"data row12 col0\" >K Neighbors Classifier</td>\n",
       "                        <td id=\"T_ebfbf274_705c_11eb_83bb_085bd660ec02row12_col1\" class=\"data row12 col1\" >0.6935</td>\n",
       "                        <td id=\"T_ebfbf274_705c_11eb_83bb_085bd660ec02row12_col2\" class=\"data row12 col2\" >0.7292</td>\n",
       "                        <td id=\"T_ebfbf274_705c_11eb_83bb_085bd660ec02row12_col3\" class=\"data row12 col3\" >0.5290</td>\n",
       "                        <td id=\"T_ebfbf274_705c_11eb_83bb_085bd660ec02row12_col4\" class=\"data row12 col4\" >0.6340</td>\n",
       "                        <td id=\"T_ebfbf274_705c_11eb_83bb_085bd660ec02row12_col5\" class=\"data row12 col5\" >0.5725</td>\n",
       "                        <td id=\"T_ebfbf274_705c_11eb_83bb_085bd660ec02row12_col6\" class=\"data row12 col6\" >0.3377</td>\n",
       "                        <td id=\"T_ebfbf274_705c_11eb_83bb_085bd660ec02row12_col7\" class=\"data row12 col7\" >0.3437</td>\n",
       "                        <td id=\"T_ebfbf274_705c_11eb_83bb_085bd660ec02row12_col8\" class=\"data row12 col8\" >0.3000</td>\n",
       "            </tr>\n",
       "            <tr>\n",
       "                        <th id=\"T_ebfbf274_705c_11eb_83bb_085bd660ec02level0_row13\" class=\"row_heading level0 row13\" >qda</th>\n",
       "                        <td id=\"T_ebfbf274_705c_11eb_83bb_085bd660ec02row13_col0\" class=\"data row13 col0\" >Quadratic Discriminant Analysis</td>\n",
       "                        <td id=\"T_ebfbf274_705c_11eb_83bb_085bd660ec02row13_col1\" class=\"data row13 col1\" >0.4594</td>\n",
       "                        <td id=\"T_ebfbf274_705c_11eb_83bb_085bd660ec02row13_col2\" class=\"data row13 col2\" >0.0947</td>\n",
       "                        <td id=\"T_ebfbf274_705c_11eb_83bb_085bd660ec02row13_col3\" class=\"data row13 col3\" >0.7000</td>\n",
       "                        <td id=\"T_ebfbf274_705c_11eb_83bb_085bd660ec02row13_col4\" class=\"data row13 col4\" >0.2755</td>\n",
       "                        <td id=\"T_ebfbf274_705c_11eb_83bb_085bd660ec02row13_col5\" class=\"data row13 col5\" >0.3954</td>\n",
       "                        <td id=\"T_ebfbf274_705c_11eb_83bb_085bd660ec02row13_col6\" class=\"data row13 col6\" >0.0000</td>\n",
       "                        <td id=\"T_ebfbf274_705c_11eb_83bb_085bd660ec02row13_col7\" class=\"data row13 col7\" >0.0000</td>\n",
       "                        <td id=\"T_ebfbf274_705c_11eb_83bb_085bd660ec02row13_col8\" class=\"data row13 col8\" >0.0070</td>\n",
       "            </tr>\n",
       "            <tr>\n",
       "                        <th id=\"T_ebfbf274_705c_11eb_83bb_085bd660ec02level0_row14\" class=\"row_heading level0 row14\" >nb</th>\n",
       "                        <td id=\"T_ebfbf274_705c_11eb_83bb_085bd660ec02row14_col0\" class=\"data row14 col0\" >Naive Bayes</td>\n",
       "                        <td id=\"T_ebfbf274_705c_11eb_83bb_085bd660ec02row14_col1\" class=\"data row14 col1\" >0.4254</td>\n",
       "                        <td id=\"T_ebfbf274_705c_11eb_83bb_085bd660ec02row14_col2\" class=\"data row14 col2\" >0.7986</td>\n",
       "                        <td id=\"T_ebfbf274_705c_11eb_83bb_085bd660ec02row14_col3\" class=\"data row14 col3\" >0.9753</td>\n",
       "                        <td id=\"T_ebfbf274_705c_11eb_83bb_085bd660ec02row14_col4\" class=\"data row14 col4\" >0.4041</td>\n",
       "                        <td id=\"T_ebfbf274_705c_11eb_83bb_085bd660ec02row14_col5\" class=\"data row14 col5\" >0.5711</td>\n",
       "                        <td id=\"T_ebfbf274_705c_11eb_83bb_085bd660ec02row14_col6\" class=\"data row14 col6\" >0.0385</td>\n",
       "                        <td id=\"T_ebfbf274_705c_11eb_83bb_085bd660ec02row14_col7\" class=\"data row14 col7\" >0.0830</td>\n",
       "                        <td id=\"T_ebfbf274_705c_11eb_83bb_085bd660ec02row14_col8\" class=\"data row14 col8\" >0.0050</td>\n",
       "            </tr>\n",
       "    </tbody></table>"
      ],
      "text/plain": [
       "<pandas.io.formats.style.Styler at 0x2e1129e9df0>"
      ]
     },
     "metadata": {},
     "output_type": "display_data"
    },
    {
     "data": {
      "text/plain": [
       "GradientBoostingClassifier(ccp_alpha=0.0, criterion='friedman_mse', init=None,\n",
       "                           learning_rate=0.1, loss='deviance', max_depth=3,\n",
       "                           max_features=None, max_leaf_nodes=None,\n",
       "                           min_impurity_decrease=0.0, min_impurity_split=None,\n",
       "                           min_samples_leaf=1, min_samples_split=2,\n",
       "                           min_weight_fraction_leaf=0.0, n_estimators=100,\n",
       "                           n_iter_no_change=None, presort='deprecated',\n",
       "                           random_state=123, subsample=1.0, tol=0.0001,\n",
       "                           validation_fraction=0.1, verbose=0,\n",
       "                           warm_start=False)"
      ]
     },
     "execution_count": 36,
     "metadata": {},
     "output_type": "execute_result"
    }
   ],
   "source": [
    "# 모델들의 정확도 출력\n",
    "compare_models(sort = 'Accuracy', n_select = 1)"
   ]
  },
  {
   "cell_type": "markdown",
   "metadata": {},
   "source": [
    "### 모델 학습 및 예측"
   ]
  },
  {
   "cell_type": "code",
   "execution_count": 37,
   "metadata": {},
   "outputs": [],
   "source": [
    "# 학습 데이터 feature와 label 분리\n",
    "y_df = df['Survived']\n",
    "X_df = df.drop('Survived', axis=1)"
   ]
  },
  {
   "cell_type": "code",
   "execution_count": 38,
   "metadata": {},
   "outputs": [],
   "source": [
    "# train, test 데이터 세트 분류\n",
    "X_train, X_test, y_train, y_test = train_test_split(X_df, y_df, test_size=0.2, random_state=11)"
   ]
  },
  {
   "cell_type": "code",
   "execution_count": 39,
   "metadata": {},
   "outputs": [
    {
     "name": "stdout",
     "output_type": "stream",
     "text": [
      "GradientBoostingClassifier 정확도: 0.8715\n",
      "RandomForestClassifier 정확도: 0.8492\n",
      "AdaBoostClassifier 정확도: 0.8659\n"
     ]
    }
   ],
   "source": [
    "# gradient boost, random forest, AdaBoostClassifier를 위한 사이킷런 classifier 클래스 생성\n",
    "gbc_clf = GradientBoostingClassifier(random_state=11)\n",
    "rf_clf = RandomForestClassifier(random_state=11)\n",
    "ada_clf = AdaBoostClassifier(random_state=11)\n",
    "\n",
    "# GradientBoostingClassifier 학습,예측,정확도 출력\n",
    "gbc_clf.fit(X_train, y_train)\n",
    "gbc_pred = gbc_clf.predict(X_test)\n",
    "print('GradientBoostingClassifier 정확도: {0:.4f}'.format(accuracy_score(y_test, gbc_pred)))\n",
    "\n",
    "# RandomForestClassifier 학습,예측,정확도 출력\n",
    "rf_clf.fit(X_train, y_train)\n",
    "rf_pred = rf_clf.predict(X_test)\n",
    "print('RandomForestClassifier 정확도: {0:.4f}'.format(accuracy_score(y_test, rf_pred)))\n",
    "\n",
    "# AdaBoostClassifier 학습,예측,정확도 출력\n",
    "ada_clf.fit(X_train, y_train)\n",
    "ada_pred = ada_clf.predict(X_test)\n",
    "print('AdaBoostClassifier 정확도: {0:.4f}'.format(accuracy_score(y_test, ada_pred)))"
   ]
  },
  {
   "cell_type": "code",
   "execution_count": 40,
   "metadata": {},
   "outputs": [
    {
     "name": "stdout",
     "output_type": "stream",
     "text": [
      "교차 검증 0 정확도:  0.8380\n",
      "교차 검증 1 정확도:  0.7978\n",
      "교차 검증 2 정확도:  0.8258\n",
      "교차 검증 3 정확도:  0.7753\n",
      "교차 검증 4 정확도:  0.8820\n",
      "평균 정확도: 0.8238\n"
     ]
    }
   ],
   "source": [
    "# kfold 사용\n",
    "def exec_kfold(clf, folds=5):\n",
    "    # 폴드 세트가 5개인 KFold 객체 생성, 폴드 수만큼 예측결과 저장을 위한 리스트 생성\n",
    "    kfold = KFold(n_splits=folds)\n",
    "    scores = []\n",
    "    \n",
    "    # kFold 교차 검증 수행\n",
    "    for iter_count, (train_index, test_index) in enumerate(kfold.split(X_df)):\n",
    "        # X_df, y_df 데이터에서 교차 검증별로 학습과 검증 데이터를 가리키는 index 생성\n",
    "        X_train, X_test = X_df.values[train_index], X_df.values[test_index]\n",
    "        y_train, y_test = y_df.values[train_index], y_df.values[test_index]\n",
    "        # Classifier 학습, 예측, 정확도 계산\n",
    "        clf.fit(X_train, y_train)\n",
    "        predictions = clf.predict(X_test)\n",
    "        accuracy = accuracy_score(y_test, predictions)\n",
    "        scores.append(accuracy)\n",
    "        print(\"교차 검증 {0} 정확도:  {1:.4f}\".format(iter_count, accuracy))\n",
    "        \n",
    "    # 5개 fold에서의 평균 정확도 계산.\n",
    "    mean_score = np.mean(scores)\n",
    "    print(\"평균 정확도: {0:.4f}\".format(mean_score))\n",
    "        \n",
    "# exec_kfold 호출\n",
    "exec_kfold(gbc_clf, folds=5)"
   ]
  },
  {
   "cell_type": "code",
   "execution_count": 41,
   "metadata": {},
   "outputs": [
    {
     "name": "stdout",
     "output_type": "stream",
     "text": [
      "교차 검증 0 정확도: 0.8324\n",
      "교차 검증 1 정확도: 0.7978\n",
      "교차 검증 2 정확도: 0.8483\n",
      "교차 검증 3 정확도: 0.8090\n",
      "교차 검증 4 정확도: 0.8764\n",
      "평균 정확도: 0.8328\n"
     ]
    }
   ],
   "source": [
    "# cross_val_score 사용\n",
    "scores = cross_val_score(gbc_clf, X_df, y_df, cv=5)\n",
    "for iter_count, accuracy in enumerate(scores):\n",
    "    print(\"교차 검증 {0} 정확도: {1:.4f}\".format(iter_count, accuracy))\n",
    "    \n",
    "print(\"평균 정확도: {0:.4f}\".format(np.mean(scores)))"
   ]
  },
  {
   "cell_type": "markdown",
   "metadata": {},
   "source": [
    "### 파라미터 서치"
   ]
  },
  {
   "cell_type": "code",
   "execution_count": 42,
   "metadata": {},
   "outputs": [
    {
     "name": "stdout",
     "output_type": "stream",
     "text": [
      "Fitting 5 folds for each of 576 candidates, totalling 2880 fits\n"
     ]
    },
    {
     "name": "stderr",
     "output_type": "stream",
     "text": [
      "[Parallel(n_jobs=-1)]: Using backend LokyBackend with 16 concurrent workers.\n",
      "[Parallel(n_jobs=-1)]: Done  18 tasks      | elapsed:    0.7s\n",
      "[Parallel(n_jobs=-1)]: Done 168 tasks      | elapsed:    5.7s\n",
      "[Parallel(n_jobs=-1)]: Done 418 tasks      | elapsed:   15.6s\n",
      "[Parallel(n_jobs=-1)]: Done 768 tasks      | elapsed:   33.6s\n",
      "[Parallel(n_jobs=-1)]: Done 1218 tasks      | elapsed:   52.8s\n",
      "[Parallel(n_jobs=-1)]: Done 1768 tasks      | elapsed:  1.3min\n",
      "[Parallel(n_jobs=-1)]: Done 2418 tasks      | elapsed:  1.8min\n"
     ]
    },
    {
     "name": "stdout",
     "output_type": "stream",
     "text": [
      "최적 하이퍼 파라미터:\n",
      " {'learning_rate': 0.05, 'max_depth': 6, 'min_samples_leaf': 10, 'min_samples_split': 2, 'n_estimators': 100}\n",
      "최고 예측 정확도: 0.8287\n"
     ]
    },
    {
     "name": "stderr",
     "output_type": "stream",
     "text": [
      "[Parallel(n_jobs=-1)]: Done 2880 out of 2880 | elapsed:  2.2min finished\n"
     ]
    }
   ],
   "source": [
    "# GradientBoostingClassifier 파라미터 서치\n",
    "params = {\n",
    "    'n_estimators' : [100, 200, 500],\n",
    "    'max_depth' : [6, 8, 10, 12],\n",
    "    'min_samples_leaf' : [3, 5, 7, 10],\n",
    "    'min_samples_split' : [2, 3, 5, 10],\n",
    "    'learning_rate' : [0.05, 0.1, 0.2]\n",
    "}\n",
    "grid_cv = GridSearchCV(gbc_clf, param_grid=params, scoring=\"accuracy\", n_jobs=-1, verbose=1)\n",
    "grid_cv.fit(X_train, y_train)\n",
    "print('최적 하이퍼 파라미터:\\n', grid_cv.best_params_)\n",
    "print('최고 예측 정확도: {0:.4f}'.format(grid_cv.best_score_))"
   ]
  },
  {
   "cell_type": "code",
   "execution_count": 43,
   "metadata": {},
   "outputs": [
    {
     "name": "stdout",
     "output_type": "stream",
     "text": [
      "GradientBoostingClassifier GridSearch 정확도: 0.8939\n"
     ]
    }
   ],
   "source": [
    "# GridSearchCV를 이용해 최적으로 학습된 estimator로 예측 수행.\n",
    "gbc_pred = grid_cv.best_estimator_.predict(X_test)\n",
    "gbc_accuracy = accuracy_score(y_test, gbc_pred)\n",
    "print(\"GradientBoostingClassifier GridSearch 정확도: {0:.4f}\".format(gbc_accuracy))"
   ]
  },
  {
   "cell_type": "markdown",
   "metadata": {},
   "source": [
    "### 앙상블 수행"
   ]
  },
  {
   "cell_type": "code",
   "execution_count": 44,
   "metadata": {},
   "outputs": [
    {
     "name": "stdout",
     "output_type": "stream",
     "text": [
      "GradientBoostingClassifier Bagging 정확도: 0.8883\n",
      "GradientBoostingClassifier Adaboost 정확도: 0.8380\n"
     ]
    }
   ],
   "source": [
    "# GradientBoostingClassifier GridSearchCV 모델을 base_esimator로 한 앙상블 모델 비교\n",
    "\n",
    "gbc_bagging_clf = BaggingClassifier(base_estimator=grid_cv.best_estimator_, n_estimators=10, random_state=0)\n",
    "gbc_bagging_clf.fit(X_train, y_train)\n",
    "gbc_bagging_pred = gbc_bagging_clf.predict(X_test)\n",
    "gbc_bagging_accuracy = accuracy_score(y_test, gbc_bagging_pred)\n",
    "print(\"GradientBoostingClassifier Bagging 정확도: {0:.4f}\".format(gbc_bagging_accuracy))\n",
    "\n",
    "gbc_ada_clf = AdaBoostClassifier(base_estimator=grid_cv.best_estimator_, n_estimators=10, random_state=0)\n",
    "gbc_ada_clf.fit(X_train, y_train)\n",
    "gbc_ada_pred = gbc_ada_clf.predict(X_test)\n",
    "gbc_ada_accuracy = accuracy_score(y_test, gbc_ada_pred)\n",
    "print(\"GradientBoostingClassifier Adaboost 정확도: {0:.4f}\".format(gbc_ada_accuracy))"
   ]
  },
  {
   "cell_type": "code",
   "execution_count": 45,
   "metadata": {},
   "outputs": [
    {
     "name": "stdout",
     "output_type": "stream",
     "text": [
      "VotingClassifier Hard 정확도: 0.8827\n"
     ]
    }
   ],
   "source": [
    "# GradientBoostingClassifier와 AdaBoostClassifier 보팅(하드)\n",
    "vo_hard_clf = VotingClassifier( estimators=[('GBC', grid_cv.best_estimator_), ('ADA', ada_clf)])\n",
    "\n",
    "# VotingClassifier 학습, 예측, 정확도 계산\n",
    "vo_hard_clf.fit(X_train, y_train)\n",
    "hard_pred = vo_hard_clf.predict(X_test)\n",
    "print('VotingClassifier Hard 정확도: {0:.4f}'.format(accuracy_score(y_test, hard_pred)))"
   ]
  },
  {
   "cell_type": "code",
   "execution_count": 46,
   "metadata": {},
   "outputs": [
    {
     "name": "stdout",
     "output_type": "stream",
     "text": [
      "VotingClassifier Soft 정확도: 0.8939\n"
     ]
    }
   ],
   "source": [
    "# GradientBoostingClassifier와 AdaBoostClassifier 보팅(소프트)\n",
    "vo_soft_clf = VotingClassifier( estimators=[('GBC', grid_cv.best_estimator_), ('ADA', ada_clf)], voting='soft')\n",
    "\n",
    "# VotingClassifier 학습, 예측, 정확도 계산\n",
    "vo_soft_clf.fit(X_train, y_train)\n",
    "soft_pred = vo_soft_clf.predict(X_test)\n",
    "print('VotingClassifier Soft 정확도: {0:.4f}'.format(accuracy_score(y_test, soft_pred)))"
   ]
  }
 ],
 "metadata": {
  "kernelspec": {
   "display_name": "Python 3",
   "language": "python",
   "name": "python3"
  },
  "language_info": {
   "codemirror_mode": {
    "name": "ipython",
    "version": 3
   },
   "file_extension": ".py",
   "mimetype": "text/x-python",
   "name": "python",
   "nbconvert_exporter": "python",
   "pygments_lexer": "ipython3",
   "version": "3.8.5"
  }
 },
 "nbformat": 4,
 "nbformat_minor": 4
}
